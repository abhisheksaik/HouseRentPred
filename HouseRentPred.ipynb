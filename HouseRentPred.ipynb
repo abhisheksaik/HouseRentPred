{
  "nbformat": 4,
  "nbformat_minor": 0,
  "metadata": {
    "colab": {
      "name": "HouseRentPred.ipynb",
      "provenance": [],
      "collapsed_sections": [],
      "authorship_tag": "ABX9TyOKvniUPtnA/rGqRf1PiKlx",
      "include_colab_link": true
    },
    "kernelspec": {
      "name": "python3",
      "display_name": "Python 3"
    },
    "language_info": {
      "name": "python"
    }
  },
  "cells": [
    {
      "cell_type": "markdown",
      "metadata": {
        "id": "view-in-github",
        "colab_type": "text"
      },
      "source": [
        "<a href=\"https://colab.research.google.com/github/abhisheksaik/HouseRentPred/blob/main/HouseRentPred.ipynb\" target=\"_parent\"><img src=\"https://colab.research.google.com/assets/colab-badge.svg\" alt=\"Open In Colab\"/></a>"
      ]
    },
    {
      "cell_type": "markdown",
      "metadata": {
        "id": "nykXLR-O0z90"
      },
      "source": [
        "#House Rent Price Prediction\n",
        "\n",
        "Dataset : https://www.kaggle.com/saisaathvik/house-rent-prices-of-metropolitan-cities-in-india"
      ]
    },
    {
      "cell_type": "code",
      "metadata": {
        "id": "mmzEgr9LE9Gp"
      },
      "source": [
        "import numpy as np\n",
        "import pandas as pd\n",
        "import matplotlib.pyplot as plt\n",
        "import seaborn as sns"
      ],
      "execution_count": 27,
      "outputs": []
    },
    {
      "cell_type": "code",
      "metadata": {
        "colab": {
          "base_uri": "https://localhost:8080/",
          "height": 204
        },
        "id": "vHzZ4fH8S63R",
        "outputId": "9163ad2d-d4c7-44ab-e04c-cd187410be31"
      },
      "source": [
        "data=pd.read_csv(\"/content/Hyderabad_rent_modified1.csv\")\n",
        "data.head()\n"
      ],
      "execution_count": 28,
      "outputs": [
        {
          "output_type": "execute_result",
          "data": {
            "text/html": [
              "<div>\n",
              "<style scoped>\n",
              "    .dataframe tbody tr th:only-of-type {\n",
              "        vertical-align: middle;\n",
              "    }\n",
              "\n",
              "    .dataframe tbody tr th {\n",
              "        vertical-align: top;\n",
              "    }\n",
              "\n",
              "    .dataframe thead th {\n",
              "        text-align: right;\n",
              "    }\n",
              "</style>\n",
              "<table border=\"1\" class=\"dataframe\">\n",
              "  <thead>\n",
              "    <tr style=\"text-align: right;\">\n",
              "      <th></th>\n",
              "      <th>seller_type</th>\n",
              "      <th>No.of_bedrooms</th>\n",
              "      <th>layout_type</th>\n",
              "      <th>property_type</th>\n",
              "      <th>locality</th>\n",
              "      <th>price</th>\n",
              "      <th>Area(sq.ft)</th>\n",
              "      <th>furnish_type</th>\n",
              "      <th>No.of_bathrooms</th>\n",
              "    </tr>\n",
              "  </thead>\n",
              "  <tbody>\n",
              "    <tr>\n",
              "      <th>0</th>\n",
              "      <td>OWNER</td>\n",
              "      <td>1</td>\n",
              "      <td>RK</td>\n",
              "      <td>Studio Apartment</td>\n",
              "      <td>Serilingampally</td>\n",
              "      <td>6,720</td>\n",
              "      <td>320</td>\n",
              "      <td>Furnished</td>\n",
              "      <td>1</td>\n",
              "    </tr>\n",
              "    <tr>\n",
              "      <th>1</th>\n",
              "      <td>OWNER</td>\n",
              "      <td>5</td>\n",
              "      <td>BHK</td>\n",
              "      <td>Villa</td>\n",
              "      <td>Sri Nagar Colony</td>\n",
              "      <td>36,000</td>\n",
              "      <td>3000</td>\n",
              "      <td>Semi-Furnished</td>\n",
              "      <td>4</td>\n",
              "    </tr>\n",
              "    <tr>\n",
              "      <th>2</th>\n",
              "      <td>OWNER</td>\n",
              "      <td>2</td>\n",
              "      <td>BHK</td>\n",
              "      <td>Independent House</td>\n",
              "      <td>Shaikpet</td>\n",
              "      <td>11,000</td>\n",
              "      <td>900</td>\n",
              "      <td>Semi-Furnished</td>\n",
              "      <td>2</td>\n",
              "    </tr>\n",
              "    <tr>\n",
              "      <th>3</th>\n",
              "      <td>OWNER</td>\n",
              "      <td>3</td>\n",
              "      <td>BHK</td>\n",
              "      <td>Apartment</td>\n",
              "      <td>Nanakramguda</td>\n",
              "      <td>45,000</td>\n",
              "      <td>2165</td>\n",
              "      <td>Unfurnished</td>\n",
              "      <td>3</td>\n",
              "    </tr>\n",
              "    <tr>\n",
              "      <th>4</th>\n",
              "      <td>OWNER</td>\n",
              "      <td>3</td>\n",
              "      <td>BHK</td>\n",
              "      <td>Apartment</td>\n",
              "      <td>Locality_Kondapur</td>\n",
              "      <td>20,000</td>\n",
              "      <td>1600</td>\n",
              "      <td>Semi-Furnished</td>\n",
              "      <td>3</td>\n",
              "    </tr>\n",
              "  </tbody>\n",
              "</table>\n",
              "</div>"
            ],
            "text/plain": [
              "  seller_type  No.of_bedrooms  ...    furnish_type No.of_bathrooms\n",
              "0       OWNER               1  ...       Furnished               1\n",
              "1       OWNER               5  ...  Semi-Furnished               4\n",
              "2       OWNER               2  ...  Semi-Furnished               2\n",
              "3       OWNER               3  ...     Unfurnished               3\n",
              "4       OWNER               3  ...  Semi-Furnished               3\n",
              "\n",
              "[5 rows x 9 columns]"
            ]
          },
          "metadata": {},
          "execution_count": 28
        }
      ]
    },
    {
      "cell_type": "code",
      "metadata": {
        "colab": {
          "base_uri": "https://localhost:8080/"
        },
        "id": "EzMDlskvUoxl",
        "outputId": "72b97341-4014-4020-fd53-809005228906"
      },
      "source": [
        "data.dtypes\n"
      ],
      "execution_count": 29,
      "outputs": [
        {
          "output_type": "execute_result",
          "data": {
            "text/plain": [
              "seller_type        object\n",
              "No.of_bedrooms      int64\n",
              "layout_type        object\n",
              "property_type      object\n",
              "locality           object\n",
              "price              object\n",
              "Area(sq.ft)         int64\n",
              "furnish_type       object\n",
              "No.of_bathrooms     int64\n",
              "dtype: object"
            ]
          },
          "metadata": {},
          "execution_count": 29
        }
      ]
    },
    {
      "cell_type": "code",
      "metadata": {
        "colab": {
          "base_uri": "https://localhost:8080/"
        },
        "id": "OTgERNL-Up9W",
        "outputId": "21421e48-a2b5-43da-f912-7435930eea05"
      },
      "source": [
        "data.info()"
      ],
      "execution_count": 30,
      "outputs": [
        {
          "output_type": "stream",
          "text": [
            "<class 'pandas.core.frame.DataFrame'>\n",
            "RangeIndex: 5886 entries, 0 to 5885\n",
            "Data columns (total 9 columns):\n",
            " #   Column           Non-Null Count  Dtype \n",
            "---  ------           --------------  ----- \n",
            " 0   seller_type      5886 non-null   object\n",
            " 1   No.of_bedrooms   5886 non-null   int64 \n",
            " 2   layout_type      5886 non-null   object\n",
            " 3   property_type    5886 non-null   object\n",
            " 4   locality         5886 non-null   object\n",
            " 5   price            5886 non-null   object\n",
            " 6   Area(sq.ft)      5886 non-null   int64 \n",
            " 7   furnish_type     5886 non-null   object\n",
            " 8   No.of_bathrooms  5886 non-null   int64 \n",
            "dtypes: int64(3), object(6)\n",
            "memory usage: 414.0+ KB\n"
          ],
          "name": "stdout"
        }
      ]
    },
    {
      "cell_type": "code",
      "metadata": {
        "id": "6tmHyZ9HU2j7"
      },
      "source": [
        "data[\"price\"]=data[\"price\"].str.replace(\",\",\"\")"
      ],
      "execution_count": 31,
      "outputs": []
    },
    {
      "cell_type": "code",
      "metadata": {
        "id": "-s_HAiDtVIsx"
      },
      "source": [
        "data.info()"
      ],
      "execution_count": null,
      "outputs": []
    },
    {
      "cell_type": "code",
      "metadata": {
        "id": "UpIbXdaGdaFS"
      },
      "source": [
        "data[\"price\"]=data[\"price\"].astype(int)"
      ],
      "execution_count": 37,
      "outputs": []
    },
    {
      "cell_type": "code",
      "metadata": {
        "id": "YbVE4R23VKOU"
      },
      "source": [
        "data['No.of_bathrooms']=data['No.of_bathrooms'].astype(int)"
      ],
      "execution_count": 33,
      "outputs": []
    },
    {
      "cell_type": "code",
      "metadata": {
        "id": "Ettf1aB4VU_W"
      },
      "source": [
        "data.info()"
      ],
      "execution_count": null,
      "outputs": []
    },
    {
      "cell_type": "code",
      "metadata": {
        "colab": {
          "base_uri": "https://localhost:8080/"
        },
        "id": "IErorgQ_dgSu",
        "outputId": "19e0649c-2ca2-4bdb-e324-2470fc9a3eb7"
      },
      "source": [
        "data['locality'].value_counts()"
      ],
      "execution_count": 40,
      "outputs": [
        {
          "output_type": "execute_result",
          "data": {
            "text/plain": [
              "Locality_Kondapur         640\n",
              "Locality_Madhapur         270\n",
              "Locality_Kukatpally       204\n",
              "Locality_Gachibowli       198\n",
              "Locality_Manikonda        174\n",
              "                         ... \n",
              "Jalapalli                   1\n",
              "Saptagiri Colony            1\n",
              "Patel Guda                  1\n",
              "Czech Colony Hyderabad      1\n",
              "Umdanagar                   1\n",
              "Name: locality, Length: 487, dtype: int64"
            ]
          },
          "metadata": {},
          "execution_count": 40
        }
      ]
    },
    {
      "cell_type": "code",
      "metadata": {
        "colab": {
          "base_uri": "https://localhost:8080/"
        },
        "id": "tVs_CFiTeMtY",
        "outputId": "80bb1ad3-170b-45b2-97a4-94c7007c04c5"
      },
      "source": [
        "data[\"property_type\"].value_counts()"
      ],
      "execution_count": 44,
      "outputs": [
        {
          "output_type": "execute_result",
          "data": {
            "text/plain": [
              "Apartment            3719\n",
              "Independent House    1054\n",
              "Independent Floor     708\n",
              "Studio Apartment      259\n",
              "Villa                 134\n",
              "Penthouse              12\n",
              "Name: property_type, dtype: int64"
            ]
          },
          "metadata": {},
          "execution_count": 44
        }
      ]
    },
    {
      "cell_type": "code",
      "metadata": {
        "colab": {
          "base_uri": "https://localhost:8080/"
        },
        "id": "yPkyadJHeZra",
        "outputId": "127696eb-1c44-485b-c531-6076d50e9853"
      },
      "source": [
        "data.duplicated().sum()"
      ],
      "execution_count": 45,
      "outputs": [
        {
          "output_type": "execute_result",
          "data": {
            "text/plain": [
              "0"
            ]
          },
          "metadata": {},
          "execution_count": 45
        }
      ]
    },
    {
      "cell_type": "code",
      "metadata": {
        "id": "ie-WNLB2em7B"
      },
      "source": [
        "data=data.drop_duplicates(keep=\"first\")"
      ],
      "execution_count": 46,
      "outputs": []
    },
    {
      "cell_type": "code",
      "metadata": {
        "colab": {
          "base_uri": "https://localhost:8080/"
        },
        "id": "28q9JwcIeuh0",
        "outputId": "2f8696a5-67b3-43c2-fd89-331cb91578b5"
      },
      "source": [
        "data.info()"
      ],
      "execution_count": 47,
      "outputs": [
        {
          "output_type": "stream",
          "text": [
            "<class 'pandas.core.frame.DataFrame'>\n",
            "Int64Index: 5886 entries, 0 to 5885\n",
            "Data columns (total 9 columns):\n",
            " #   Column           Non-Null Count  Dtype \n",
            "---  ------           --------------  ----- \n",
            " 0   seller_type      5886 non-null   object\n",
            " 1   No.of_bedrooms   5886 non-null   int64 \n",
            " 2   layout_type      5886 non-null   object\n",
            " 3   property_type    5886 non-null   object\n",
            " 4   locality         5886 non-null   object\n",
            " 5   price            5886 non-null   int64 \n",
            " 6   Area(sq.ft)      5886 non-null   int64 \n",
            " 7   furnish_type     5886 non-null   object\n",
            " 8   No.of_bathrooms  5886 non-null   int64 \n",
            "dtypes: int64(4), object(5)\n",
            "memory usage: 459.8+ KB\n"
          ],
          "name": "stdout"
        }
      ]
    },
    {
      "cell_type": "code",
      "metadata": {
        "colab": {
          "base_uri": "https://localhost:8080/"
        },
        "id": "VvHawEQCev29",
        "outputId": "20b5e39f-7905-45b6-e841-afd17fd751d1"
      },
      "source": [
        "data[\"price\"].describe()"
      ],
      "execution_count": 49,
      "outputs": [
        {
          "output_type": "execute_result",
          "data": {
            "text/plain": [
              "count      5886.000000\n",
              "mean      19294.184336\n",
              "std       23272.546626\n",
              "min        1500.000000\n",
              "25%        9500.000000\n",
              "50%       15000.000000\n",
              "75%       22000.000000\n",
              "max      600000.000000\n",
              "Name: price, dtype: float64"
            ]
          },
          "metadata": {},
          "execution_count": 49
        }
      ]
    },
    {
      "cell_type": "code",
      "metadata": {
        "colab": {
          "base_uri": "https://localhost:8080/",
          "height": 268
        },
        "id": "4cgdrQPpe_J2",
        "outputId": "d97d097d-2547-4e0b-90c9-da03c177a54a"
      },
      "source": [
        "plt.hist(data[\"price\"])\n",
        "plt.show()"
      ],
      "execution_count": 54,
      "outputs": [
        {
          "output_type": "display_data",
          "data": {
            "image/png": "[encoded data removed]",
            "text/plain": [
              "<Figure size 432x288 with 1 Axes>"
            ]
          },
          "metadata": {
            "needs_background": "light"
          }
        }
      ]
    },
    {
      "cell_type": "code",
      "metadata": {
        "colab": {
          "base_uri": "https://localhost:8080/"
        },
        "id": "aVcD5Y16fIzK",
        "outputId": "191fbc38-b0c8-472f-bedf-761bdb280d1f"
      },
      "source": [
        "quantile1=data[\"price\"].quantile(0.25)\n",
        "quantile3=data[\"price\"].quantile(0.75)\n",
        "quantile1,quantile3"
      ],
      "execution_count": 58,
      "outputs": [
        {
          "output_type": "execute_result",
          "data": {
            "text/plain": [
              "(9500.0, 22000.0)"
            ]
          },
          "metadata": {},
          "execution_count": 58
        }
      ]
    },
    {
      "cell_type": "code",
      "metadata": {
        "colab": {
          "base_uri": "https://localhost:8080/"
        },
        "id": "gN6Sd_fwgA0j",
        "outputId": "f0023e06-1d63-4ab4-8b5c-53d388b08dea"
      },
      "source": [
        "iqr=quantile3-quantile1\n",
        "iqr"
      ],
      "execution_count": 60,
      "outputs": [
        {
          "output_type": "execute_result",
          "data": {
            "text/plain": [
              "12500.0"
            ]
          },
          "metadata": {},
          "execution_count": 60
        }
      ]
    },
    {
      "cell_type": "code",
      "metadata": {
        "colab": {
          "base_uri": "https://localhost:8080/"
        },
        "id": "VA7anqwNgKuF",
        "outputId": "49662ab5-33be-4ca7-ddfe-78fd3433810e"
      },
      "source": [
        "upper_limit=quantile3+1.5*iqr\n",
        "lower_limit=quantile1-1.5*iqr\n",
        "upper_limit,lower_limit"
      ],
      "execution_count": 62,
      "outputs": [
        {
          "output_type": "execute_result",
          "data": {
            "text/plain": [
              "(40750.0, -9250.0)"
            ]
          },
          "metadata": {},
          "execution_count": 62
        }
      ]
    },
    {
      "cell_type": "code",
      "metadata": {
        "id": "ZLMyedvngn_D"
      },
      "source": [
        "def limit_imputer(value):\n",
        "    if value > upper_limit:\n",
        "        return upper_limit\n",
        "    elif value < lower_limit:\n",
        "        return lower_limit\n",
        "    else:\n",
        "        return value"
      ],
      "execution_count": 63,
      "outputs": []
    },
    {
      "cell_type": "code",
      "metadata": {
        "id": "qdXHuQJKg2t-"
      },
      "source": [
        "data['price']=data['price'].apply(limit_imputer)"
      ],
      "execution_count": 64,
      "outputs": []
    },
    {
      "cell_type": "code",
      "metadata": {
        "colab": {
          "base_uri": "https://localhost:8080/"
        },
        "id": "LYDp8ZPyg5Q_",
        "outputId": "5bbc033c-56bf-4679-fda9-3fc9e29c8b31"
      },
      "source": [
        "data['price'].describe()"
      ],
      "execution_count": 65,
      "outputs": [
        {
          "output_type": "execute_result",
          "data": {
            "text/plain": [
              "count     5886.000000\n",
              "mean     17043.370880\n",
              "std       9714.201039\n",
              "min       1500.000000\n",
              "25%       9500.000000\n",
              "50%      15000.000000\n",
              "75%      22000.000000\n",
              "max      40750.000000\n",
              "Name: price, dtype: float64"
            ]
          },
          "metadata": {},
          "execution_count": 65
        }
      ]
    },
    {
      "cell_type": "code",
      "metadata": {
        "colab": {
          "base_uri": "https://localhost:8080/",
          "height": 282
        },
        "id": "rbussE5fg8x1",
        "outputId": "69adbfd3-09f5-4a73-ad72-c76271a4b806"
      },
      "source": [
        "data['price'].plot.hist()"
      ],
      "execution_count": 66,
      "outputs": [
        {
          "output_type": "execute_result",
          "data": {
            "text/plain": [
              "<matplotlib.axes._subplots.AxesSubplot at 0x7f414b937850>"
            ]
          },
          "metadata": {},
          "execution_count": 66
        },
        {
          "output_type": "display_data",
          "data": {
            "image/png": "[encoded data removed]",
            "text/plain": [
              "<Figure size 432x288 with 1 Axes>"
            ]
          },
          "metadata": {
            "needs_background": "light"
          }
        }
      ]
    },
    {
      "cell_type": "code",
      "metadata": {
        "colab": {
          "base_uri": "https://localhost:8080/"
        },
        "id": "Amo_lXjqg-3W",
        "outputId": "06c5037c-0104-48b9-88fa-ed4087bd4b5b"
      },
      "source": [
        "data.isnull().sum()"
      ],
      "execution_count": 68,
      "outputs": [
        {
          "output_type": "execute_result",
          "data": {
            "text/plain": [
              "seller_type        0\n",
              "No.of_bedrooms     0\n",
              "layout_type        0\n",
              "property_type      0\n",
              "locality           0\n",
              "price              0\n",
              "Area(sq.ft)        0\n",
              "furnish_type       0\n",
              "No.of_bathrooms    0\n",
              "dtype: int64"
            ]
          },
          "metadata": {},
          "execution_count": 68
        }
      ]
    },
    {
      "cell_type": "code",
      "metadata": {
        "colab": {
          "base_uri": "https://localhost:8080/"
        },
        "id": "qOnZsY4ehFc-",
        "outputId": "767aea62-9af8-47d6-dc66-2c4b948fb543"
      },
      "source": [
        "data.shape"
      ],
      "execution_count": 70,
      "outputs": [
        {
          "output_type": "execute_result",
          "data": {
            "text/plain": [
              "(5886, 9)"
            ]
          },
          "metadata": {},
          "execution_count": 70
        }
      ]
    },
    {
      "cell_type": "code",
      "metadata": {
        "colab": {
          "base_uri": "https://localhost:8080/",
          "height": 325
        },
        "id": "MURuk7UshKV_",
        "outputId": "5deffc28-aa4a-48ba-8e1c-a4999d727f04"
      },
      "source": [
        "data.groupby('seller_type')['price'].mean().sort_values().plot(kind='bar')"
      ],
      "execution_count": 73,
      "outputs": [
        {
          "output_type": "execute_result",
          "data": {
            "text/plain": [
              "<matplotlib.axes._subplots.AxesSubplot at 0x7f4145b0ec50>"
            ]
          },
          "metadata": {},
          "execution_count": 73
        },
        {
          "output_type": "display_data",
          "data": {
            "image/png": "[encoded data removed]",
            "text/plain": [
              "<Figure size 432x288 with 1 Axes>"
            ]
          },
          "metadata": {
            "needs_background": "light"
          }
        }
      ]
    },
    {
      "cell_type": "code",
      "metadata": {
        "colab": {
          "base_uri": "https://localhost:8080/",
          "height": 308
        },
        "id": "AVPgoGN3hp85",
        "outputId": "575b93c9-1983-4ae1-996f-776fae43f1a0"
      },
      "source": [
        "data.groupby('layout_type')['price'].mean().sort_values().plot(kind='bar')"
      ],
      "execution_count": 74,
      "outputs": [
        {
          "output_type": "execute_result",
          "data": {
            "text/plain": [
              "<matplotlib.axes._subplots.AxesSubplot at 0x7f4145ab19d0>"
            ]
          },
          "metadata": {},
          "execution_count": 74
        },
        {
          "output_type": "display_data",
          "data": {
            "image/png": "[encoded data removed]",
            "text/plain": [
              "<Figure size 432x288 with 1 Axes>"
            ]
          },
          "metadata": {
            "needs_background": "light"
          }
        }
      ]
    },
    {
      "cell_type": "code",
      "metadata": {
        "colab": {
          "base_uri": "https://localhost:8080/",
          "height": 384
        },
        "id": "2H-Y3JotiGil",
        "outputId": "54f16f9b-fa71-43af-ebaa-ce001de7542b"
      },
      "source": [
        "\n",
        "data.groupby('property_type')['price'].mean().sort_values().plot(kind='bar')"
      ],
      "execution_count": 75,
      "outputs": [
        {
          "output_type": "execute_result",
          "data": {
            "text/plain": [
              "<matplotlib.axes._subplots.AxesSubplot at 0x7f4145a06a90>"
            ]
          },
          "metadata": {},
          "execution_count": 75
        },
        {
          "output_type": "display_data",
          "data": {
            "image/png": "[encoded data removed]",
            "text/plain": [
              "<Figure size 432x288 with 1 Axes>"
            ]
          },
          "metadata": {
            "needs_background": "light"
          }
        }
      ]
    },
    {
      "cell_type": "code",
      "metadata": {
        "colab": {
          "base_uri": "https://localhost:8080/",
          "height": 365
        },
        "id": "vg5Y4f1UiNmq",
        "outputId": "da658c28-1ad8-4e0f-aa6d-79f8246a8118"
      },
      "source": [
        "data.groupby('furnish_type')['price'].mean().sort_values().plot(kind='bar')"
      ],
      "execution_count": 76,
      "outputs": [
        {
          "output_type": "execute_result",
          "data": {
            "text/plain": [
              "<matplotlib.axes._subplots.AxesSubplot at 0x7f41468b1250>"
            ]
          },
          "metadata": {},
          "execution_count": 76
        },
        {
          "output_type": "display_data",
          "data": {
            "image/png": "[encoded data removed]",
            "text/plain": [
              "<Figure size 432x288 with 1 Axes>"
            ]
          },
          "metadata": {
            "needs_background": "light"
          }
        }
      ]
    },
    {
      "cell_type": "code",
      "metadata": {
        "colab": {
          "base_uri": "https://localhost:8080/",
          "height": 512
        },
        "id": "DlmeUSO4iU04",
        "outputId": "c0ea1eb6-6eac-4b74-e75c-9b29e9c2b2ae"
      },
      "source": [
        "data.groupby('locality')['price'].mean().sort_values().plot(kind='bar')"
      ],
      "execution_count": 77,
      "outputs": [
        {
          "output_type": "execute_result",
          "data": {
            "text/plain": [
              "<matplotlib.axes._subplots.AxesSubplot at 0x7f41458dba90>"
            ]
          },
          "metadata": {},
          "execution_count": 77
        },
        {
          "output_type": "display_data",
          "data": {
            "image/png": "[encoded data removed]",
            "text/plain": [
              "<Figure size 432x288 with 1 Axes>"
            ]
          },
          "metadata": {
            "needs_background": "light"
          }
        }
      ]
    },
    {
      "cell_type": "code",
      "metadata": {
        "id": "oHEufrqkiaC8"
      },
      "source": [
        "data.dropna(inplace=True)\n",
        "X = data.drop(columns=['price'])\n",
        "Y = data['price']"
      ],
      "execution_count": 78,
      "outputs": []
    },
    {
      "cell_type": "code",
      "metadata": {
        "id": "JMKD9fRekPK9"
      },
      "source": [
        "#checking distribution of independent numerical variables\n",
        "def distribution(data ,var):\n",
        "  plt.figure(figsize = (len(var)*6,6), dpi = 120)\n",
        "  for j,i in enumerate(var):\n",
        "    plt.subplot(1,len(var),j+1)\n",
        "    plt.hist(data[i])\n",
        "    plt.title(i)"
      ],
      "execution_count": 79,
      "outputs": []
    },
    {
      "cell_type": "code",
      "metadata": {
        "id": "VzW78wsokSIT"
      },
      "source": [
        "numerical_columns = ['No.of_bedrooms','Area(sq.ft)','No.of_bathrooms']"
      ],
      "execution_count": 80,
      "outputs": []
    },
    {
      "cell_type": "code",
      "metadata": {
        "id": "eoHEkvSQkktR"
      },
      "source": [
        "for i in numerical_columns:\n",
        "  X[i] = pd.to_numeric(X[i])\n"
      ],
      "execution_count": 88,
      "outputs": []
    },
    {
      "cell_type": "code",
      "metadata": {
        "colab": {
          "base_uri": "https://localhost:8080/",
          "height": 459
        },
        "id": "c2exNX_2kqAS",
        "outputId": "9f28a894-9d9d-4aed-ed97-e2307c00c56e"
      },
      "source": [
        "distribution(X, numerical_columns)"
      ],
      "execution_count": 83,
      "outputs": [
        {
          "output_type": "display_data",
          "data": {
            "image/png": "[encoded data removed]",
            "text/plain": [
              "<Figure size 2160x720 with 3 Axes>"
            ]
          },
          "metadata": {
            "needs_background": "light"
          }
        }
      ]
    },
    {
      "cell_type": "code",
      "metadata": {
        "id": "eAjbWwjQksBg"
      },
      "source": [
        "#removing right skew\n",
        "def right_skew(x):\n",
        "  return np.log(abs(x+500))\n",
        "right_skew_variables = ['No.of_bedrooms','Area(sq.ft)','No.of_bathrooms']"
      ],
      "execution_count": 89,
      "outputs": []
    },
    {
      "cell_type": "code",
      "metadata": {
        "id": "_3qjbWErnglC"
      },
      "source": [
        "for i in right_skew_variables:\n",
        "  X[i] = X[i].map(right_skew)\n",
        "\n",
        "# removing infinite values\n",
        "X = X.replace(np.inf, np.nan)\n",
        "X.dropna(inplace=True)"
      ],
      "execution_count": 91,
      "outputs": []
    },
    {
      "cell_type": "code",
      "metadata": {
        "colab": {
          "base_uri": "https://localhost:8080/",
          "height": 475
        },
        "id": "sHxX56jlnjei",
        "outputId": "ef2f8488-05ce-4940-bff5-4bd37b41a199"
      },
      "source": [
        "distribution(X, numerical_columns)"
      ],
      "execution_count": 92,
      "outputs": [
        {
          "output_type": "display_data",
          "data": {
            "image/png": "[encoded data removed]",
            "text/plain": [
              "<Figure size 2160x720 with 3 Axes>"
            ]
          },
          "metadata": {
            "needs_background": "light"
          }
        }
      ]
    },
    {
      "cell_type": "markdown",
      "metadata": {
        "id": "gopB2kyHouA1"
      },
      "source": [
        "#Scaling\n"
      ]
    },
    {
      "cell_type": "code",
      "metadata": {
        "colab": {
          "base_uri": "https://localhost:8080/",
          "height": 419
        },
        "id": "BUWMzjhxolP9",
        "outputId": "74743789-0aa9-4a31-fe09-7677d835dd56"
      },
      "source": [
        "X"
      ],
      "execution_count": 94,
      "outputs": [
        {
          "output_type": "execute_result",
          "data": {
            "text/html": [
              "<div>\n",
              "<style scoped>\n",
              "    .dataframe tbody tr th:only-of-type {\n",
              "        vertical-align: middle;\n",
              "    }\n",
              "\n",
              "    .dataframe tbody tr th {\n",
              "        vertical-align: top;\n",
              "    }\n",
              "\n",
              "    .dataframe thead th {\n",
              "        text-align: right;\n",
              "    }\n",
              "</style>\n",
              "<table border=\"1\" class=\"dataframe\">\n",
              "  <thead>\n",
              "    <tr style=\"text-align: right;\">\n",
              "      <th></th>\n",
              "      <th>seller_type</th>\n",
              "      <th>No.of_bedrooms</th>\n",
              "      <th>layout_type</th>\n",
              "      <th>property_type</th>\n",
              "      <th>locality</th>\n",
              "      <th>Area(sq.ft)</th>\n",
              "      <th>furnish_type</th>\n",
              "      <th>No.of_bathrooms</th>\n",
              "    </tr>\n",
              "  </thead>\n",
              "  <tbody>\n",
              "    <tr>\n",
              "      <th>0</th>\n",
              "      <td>OWNER</td>\n",
              "      <td>6.226965</td>\n",
              "      <td>RK</td>\n",
              "      <td>Studio Apartment</td>\n",
              "      <td>Serilingampally</td>\n",
              "      <td>6.227937</td>\n",
              "      <td>Furnished</td>\n",
              "      <td>6.226965</td>\n",
              "    </tr>\n",
              "    <tr>\n",
              "      <th>1</th>\n",
              "      <td>OWNER</td>\n",
              "      <td>6.226980</td>\n",
              "      <td>BHK</td>\n",
              "      <td>Villa</td>\n",
              "      <td>Sri Nagar Colony</td>\n",
              "      <td>6.230797</td>\n",
              "      <td>Semi-Furnished</td>\n",
              "      <td>6.226976</td>\n",
              "    </tr>\n",
              "    <tr>\n",
              "      <th>2</th>\n",
              "      <td>OWNER</td>\n",
              "      <td>6.226969</td>\n",
              "      <td>BHK</td>\n",
              "      <td>Independent House</td>\n",
              "      <td>Shaikpet</td>\n",
              "      <td>6.228993</td>\n",
              "      <td>Semi-Furnished</td>\n",
              "      <td>6.226969</td>\n",
              "    </tr>\n",
              "    <tr>\n",
              "      <th>3</th>\n",
              "      <td>OWNER</td>\n",
              "      <td>6.226973</td>\n",
              "      <td>BHK</td>\n",
              "      <td>Apartment</td>\n",
              "      <td>Nanakramguda</td>\n",
              "      <td>6.230261</td>\n",
              "      <td>Unfurnished</td>\n",
              "      <td>6.226973</td>\n",
              "    </tr>\n",
              "    <tr>\n",
              "      <th>4</th>\n",
              "      <td>OWNER</td>\n",
              "      <td>6.226973</td>\n",
              "      <td>BHK</td>\n",
              "      <td>Apartment</td>\n",
              "      <td>Locality_Kondapur</td>\n",
              "      <td>6.229792</td>\n",
              "      <td>Semi-Furnished</td>\n",
              "      <td>6.226973</td>\n",
              "    </tr>\n",
              "    <tr>\n",
              "      <th>...</th>\n",
              "      <td>...</td>\n",
              "      <td>...</td>\n",
              "      <td>...</td>\n",
              "      <td>...</td>\n",
              "      <td>...</td>\n",
              "      <td>...</td>\n",
              "      <td>...</td>\n",
              "      <td>...</td>\n",
              "    </tr>\n",
              "    <tr>\n",
              "      <th>5881</th>\n",
              "      <td>AGENT</td>\n",
              "      <td>6.226965</td>\n",
              "      <td>BHK</td>\n",
              "      <td>Apartment</td>\n",
              "      <td>Locality_Begumpet</td>\n",
              "      <td>6.228921</td>\n",
              "      <td>Semi-Furnished</td>\n",
              "      <td>6.226965</td>\n",
              "    </tr>\n",
              "    <tr>\n",
              "      <th>5882</th>\n",
              "      <td>AGENT</td>\n",
              "      <td>6.226969</td>\n",
              "      <td>BHK</td>\n",
              "      <td>Apartment</td>\n",
              "      <td>Locality_Ameerpet</td>\n",
              "      <td>6.229488</td>\n",
              "      <td>Semi-Furnished</td>\n",
              "      <td>6.226969</td>\n",
              "    </tr>\n",
              "    <tr>\n",
              "      <th>5883</th>\n",
              "      <td>AGENT</td>\n",
              "      <td>6.226969</td>\n",
              "      <td>BHK</td>\n",
              "      <td>Apartment</td>\n",
              "      <td>Locality_Ameerpet</td>\n",
              "      <td>6.229375</td>\n",
              "      <td>Semi-Furnished</td>\n",
              "      <td>6.226969</td>\n",
              "    </tr>\n",
              "    <tr>\n",
              "      <th>5884</th>\n",
              "      <td>AGENT</td>\n",
              "      <td>6.226969</td>\n",
              "      <td>BHK</td>\n",
              "      <td>Apartment</td>\n",
              "      <td>Locality_Begumpet</td>\n",
              "      <td>6.229488</td>\n",
              "      <td>Furnished</td>\n",
              "      <td>6.226969</td>\n",
              "    </tr>\n",
              "    <tr>\n",
              "      <th>5885</th>\n",
              "      <td>AGENT</td>\n",
              "      <td>6.226969</td>\n",
              "      <td>BHK</td>\n",
              "      <td>Apartment</td>\n",
              "      <td>Somajiguda</td>\n",
              "      <td>6.229696</td>\n",
              "      <td>Semi-Furnished</td>\n",
              "      <td>6.226969</td>\n",
              "    </tr>\n",
              "  </tbody>\n",
              "</table>\n",
              "<p>5886 rows × 8 columns</p>\n",
              "</div>"
            ],
            "text/plain": [
              "     seller_type  No.of_bedrooms  ...    furnish_type No.of_bathrooms\n",
              "0          OWNER        6.226965  ...       Furnished        6.226965\n",
              "1          OWNER        6.226980  ...  Semi-Furnished        6.226976\n",
              "2          OWNER        6.226969  ...  Semi-Furnished        6.226969\n",
              "3          OWNER        6.226973  ...     Unfurnished        6.226973\n",
              "4          OWNER        6.226973  ...  Semi-Furnished        6.226973\n",
              "...          ...             ...  ...             ...             ...\n",
              "5881       AGENT        6.226965  ...  Semi-Furnished        6.226965\n",
              "5882       AGENT        6.226969  ...  Semi-Furnished        6.226969\n",
              "5883       AGENT        6.226969  ...  Semi-Furnished        6.226969\n",
              "5884       AGENT        6.226969  ...       Furnished        6.226969\n",
              "5885       AGENT        6.226969  ...  Semi-Furnished        6.226969\n",
              "\n",
              "[5886 rows x 8 columns]"
            ]
          },
          "metadata": {},
          "execution_count": 94
        }
      ]
    },
    {
      "cell_type": "code",
      "metadata": {
        "colab": {
          "base_uri": "https://localhost:8080/"
        },
        "id": "zm4pdLNloz2W",
        "outputId": "c0375259-472e-4ed7-c76a-68d0b595edd4"
      },
      "source": [
        "data['seller_type'].value_counts()"
      ],
      "execution_count": 95,
      "outputs": [
        {
          "output_type": "execute_result",
          "data": {
            "text/plain": [
              "OWNER    3381\n",
              "AGENT    2505\n",
              "Name: seller_type, dtype: int64"
            ]
          },
          "metadata": {},
          "execution_count": 95
        }
      ]
    },
    {
      "cell_type": "code",
      "metadata": {
        "colab": {
          "base_uri": "https://localhost:8080/",
          "height": 204
        },
        "id": "E1QYGhfmo2tD",
        "outputId": "2e8a1e7a-16db-4221-cffb-59b5996cf8e4"
      },
      "source": [
        "#converting the categorical variables to numerical data\n",
        "\n",
        "\n",
        "X[\"seller_type\"] = X[\"seller_type\"].map({    'OWNER':1,\n",
        "                                               'AGENT':0\n",
        "})\n",
        "\n",
        "X['layout_type'] = X['layout_type'].map({\n",
        "    'RK':0,\n",
        "    'BHK':1\n",
        "})\n",
        "\n",
        "X['furnish_type'] = X['furnish_type'].map({'Unfurnished':1,\n",
        "                                            'Semi-Furnished':2,\n",
        "                                            'Furnished':3\n",
        "                                                                     \n",
        "})\n",
        "\n",
        "X.head()\n"
      ],
      "execution_count": 96,
      "outputs": [
        {
          "output_type": "execute_result",
          "data": {
            "text/html": [
              "<div>\n",
              "<style scoped>\n",
              "    .dataframe tbody tr th:only-of-type {\n",
              "        vertical-align: middle;\n",
              "    }\n",
              "\n",
              "    .dataframe tbody tr th {\n",
              "        vertical-align: top;\n",
              "    }\n",
              "\n",
              "    .dataframe thead th {\n",
              "        text-align: right;\n",
              "    }\n",
              "</style>\n",
              "<table border=\"1\" class=\"dataframe\">\n",
              "  <thead>\n",
              "    <tr style=\"text-align: right;\">\n",
              "      <th></th>\n",
              "      <th>seller_type</th>\n",
              "      <th>No.of_bedrooms</th>\n",
              "      <th>layout_type</th>\n",
              "      <th>property_type</th>\n",
              "      <th>locality</th>\n",
              "      <th>Area(sq.ft)</th>\n",
              "      <th>furnish_type</th>\n",
              "      <th>No.of_bathrooms</th>\n",
              "    </tr>\n",
              "  </thead>\n",
              "  <tbody>\n",
              "    <tr>\n",
              "      <th>0</th>\n",
              "      <td>1</td>\n",
              "      <td>6.226965</td>\n",
              "      <td>0</td>\n",
              "      <td>Studio Apartment</td>\n",
              "      <td>Serilingampally</td>\n",
              "      <td>6.227937</td>\n",
              "      <td>3</td>\n",
              "      <td>6.226965</td>\n",
              "    </tr>\n",
              "    <tr>\n",
              "      <th>1</th>\n",
              "      <td>1</td>\n",
              "      <td>6.226980</td>\n",
              "      <td>1</td>\n",
              "      <td>Villa</td>\n",
              "      <td>Sri Nagar Colony</td>\n",
              "      <td>6.230797</td>\n",
              "      <td>2</td>\n",
              "      <td>6.226976</td>\n",
              "    </tr>\n",
              "    <tr>\n",
              "      <th>2</th>\n",
              "      <td>1</td>\n",
              "      <td>6.226969</td>\n",
              "      <td>1</td>\n",
              "      <td>Independent House</td>\n",
              "      <td>Shaikpet</td>\n",
              "      <td>6.228993</td>\n",
              "      <td>2</td>\n",
              "      <td>6.226969</td>\n",
              "    </tr>\n",
              "    <tr>\n",
              "      <th>3</th>\n",
              "      <td>1</td>\n",
              "      <td>6.226973</td>\n",
              "      <td>1</td>\n",
              "      <td>Apartment</td>\n",
              "      <td>Nanakramguda</td>\n",
              "      <td>6.230261</td>\n",
              "      <td>1</td>\n",
              "      <td>6.226973</td>\n",
              "    </tr>\n",
              "    <tr>\n",
              "      <th>4</th>\n",
              "      <td>1</td>\n",
              "      <td>6.226973</td>\n",
              "      <td>1</td>\n",
              "      <td>Apartment</td>\n",
              "      <td>Locality_Kondapur</td>\n",
              "      <td>6.229792</td>\n",
              "      <td>2</td>\n",
              "      <td>6.226973</td>\n",
              "    </tr>\n",
              "  </tbody>\n",
              "</table>\n",
              "</div>"
            ],
            "text/plain": [
              "   seller_type  No.of_bedrooms  ...  furnish_type No.of_bathrooms\n",
              "0            1        6.226965  ...             3        6.226965\n",
              "1            1        6.226980  ...             2        6.226976\n",
              "2            1        6.226969  ...             2        6.226969\n",
              "3            1        6.226973  ...             1        6.226973\n",
              "4            1        6.226973  ...             2        6.226973\n",
              "\n",
              "[5 rows x 8 columns]"
            ]
          },
          "metadata": {},
          "execution_count": 96
        }
      ]
    },
    {
      "cell_type": "code",
      "metadata": {
        "colab": {
          "base_uri": "https://localhost:8080/",
          "height": 436
        },
        "id": "40-iV9p3pAW1",
        "outputId": "bbc3e3b8-7398-4a10-e740-92a1ffcfbd0a"
      },
      "source": [
        "df1=pd.get_dummies(data['property_type'], prefix='property_type')\n",
        "df1"
      ],
      "execution_count": 99,
      "outputs": [
        {
          "output_type": "execute_result",
          "data": {
            "text/html": [
              "<div>\n",
              "<style scoped>\n",
              "    .dataframe tbody tr th:only-of-type {\n",
              "        vertical-align: middle;\n",
              "    }\n",
              "\n",
              "    .dataframe tbody tr th {\n",
              "        vertical-align: top;\n",
              "    }\n",
              "\n",
              "    .dataframe thead th {\n",
              "        text-align: right;\n",
              "    }\n",
              "</style>\n",
              "<table border=\"1\" class=\"dataframe\">\n",
              "  <thead>\n",
              "    <tr style=\"text-align: right;\">\n",
              "      <th></th>\n",
              "      <th>property_type_Apartment</th>\n",
              "      <th>property_type_Independent Floor</th>\n",
              "      <th>property_type_Independent House</th>\n",
              "      <th>property_type_Penthouse</th>\n",
              "      <th>property_type_Studio Apartment</th>\n",
              "      <th>property_type_Villa</th>\n",
              "    </tr>\n",
              "  </thead>\n",
              "  <tbody>\n",
              "    <tr>\n",
              "      <th>0</th>\n",
              "      <td>0</td>\n",
              "      <td>0</td>\n",
              "      <td>0</td>\n",
              "      <td>0</td>\n",
              "      <td>1</td>\n",
              "      <td>0</td>\n",
              "    </tr>\n",
              "    <tr>\n",
              "      <th>1</th>\n",
              "      <td>0</td>\n",
              "      <td>0</td>\n",
              "      <td>0</td>\n",
              "      <td>0</td>\n",
              "      <td>0</td>\n",
              "      <td>1</td>\n",
              "    </tr>\n",
              "    <tr>\n",
              "      <th>2</th>\n",
              "      <td>0</td>\n",
              "      <td>0</td>\n",
              "      <td>1</td>\n",
              "      <td>0</td>\n",
              "      <td>0</td>\n",
              "      <td>0</td>\n",
              "    </tr>\n",
              "    <tr>\n",
              "      <th>3</th>\n",
              "      <td>1</td>\n",
              "      <td>0</td>\n",
              "      <td>0</td>\n",
              "      <td>0</td>\n",
              "      <td>0</td>\n",
              "      <td>0</td>\n",
              "    </tr>\n",
              "    <tr>\n",
              "      <th>4</th>\n",
              "      <td>1</td>\n",
              "      <td>0</td>\n",
              "      <td>0</td>\n",
              "      <td>0</td>\n",
              "      <td>0</td>\n",
              "      <td>0</td>\n",
              "    </tr>\n",
              "    <tr>\n",
              "      <th>...</th>\n",
              "      <td>...</td>\n",
              "      <td>...</td>\n",
              "      <td>...</td>\n",
              "      <td>...</td>\n",
              "      <td>...</td>\n",
              "      <td>...</td>\n",
              "    </tr>\n",
              "    <tr>\n",
              "      <th>5881</th>\n",
              "      <td>1</td>\n",
              "      <td>0</td>\n",
              "      <td>0</td>\n",
              "      <td>0</td>\n",
              "      <td>0</td>\n",
              "      <td>0</td>\n",
              "    </tr>\n",
              "    <tr>\n",
              "      <th>5882</th>\n",
              "      <td>1</td>\n",
              "      <td>0</td>\n",
              "      <td>0</td>\n",
              "      <td>0</td>\n",
              "      <td>0</td>\n",
              "      <td>0</td>\n",
              "    </tr>\n",
              "    <tr>\n",
              "      <th>5883</th>\n",
              "      <td>1</td>\n",
              "      <td>0</td>\n",
              "      <td>0</td>\n",
              "      <td>0</td>\n",
              "      <td>0</td>\n",
              "      <td>0</td>\n",
              "    </tr>\n",
              "    <tr>\n",
              "      <th>5884</th>\n",
              "      <td>1</td>\n",
              "      <td>0</td>\n",
              "      <td>0</td>\n",
              "      <td>0</td>\n",
              "      <td>0</td>\n",
              "      <td>0</td>\n",
              "    </tr>\n",
              "    <tr>\n",
              "      <th>5885</th>\n",
              "      <td>1</td>\n",
              "      <td>0</td>\n",
              "      <td>0</td>\n",
              "      <td>0</td>\n",
              "      <td>0</td>\n",
              "      <td>0</td>\n",
              "    </tr>\n",
              "  </tbody>\n",
              "</table>\n",
              "<p>5886 rows × 6 columns</p>\n",
              "</div>"
            ],
            "text/plain": [
              "      property_type_Apartment  ...  property_type_Villa\n",
              "0                           0  ...                    0\n",
              "1                           0  ...                    1\n",
              "2                           0  ...                    0\n",
              "3                           1  ...                    0\n",
              "4                           1  ...                    0\n",
              "...                       ...  ...                  ...\n",
              "5881                        1  ...                    0\n",
              "5882                        1  ...                    0\n",
              "5883                        1  ...                    0\n",
              "5884                        1  ...                    0\n",
              "5885                        1  ...                    0\n",
              "\n",
              "[5886 rows x 6 columns]"
            ]
          },
          "metadata": {},
          "execution_count": 99
        }
      ]
    },
    {
      "cell_type": "code",
      "metadata": {
        "colab": {
          "base_uri": "https://localhost:8080/",
          "height": 275
        },
        "id": "N2QlZXjhrR93",
        "outputId": "b5341216-f7b6-47a3-8253-97d9d293e324"
      },
      "source": [
        "\n",
        "X=pd.concat([X,df1],axis=1)\n",
        "X.head()"
      ],
      "execution_count": 100,
      "outputs": [
        {
          "output_type": "execute_result",
          "data": {
            "text/html": [
              "<div>\n",
              "<style scoped>\n",
              "    .dataframe tbody tr th:only-of-type {\n",
              "        vertical-align: middle;\n",
              "    }\n",
              "\n",
              "    .dataframe tbody tr th {\n",
              "        vertical-align: top;\n",
              "    }\n",
              "\n",
              "    .dataframe thead th {\n",
              "        text-align: right;\n",
              "    }\n",
              "</style>\n",
              "<table border=\"1\" class=\"dataframe\">\n",
              "  <thead>\n",
              "    <tr style=\"text-align: right;\">\n",
              "      <th></th>\n",
              "      <th>seller_type</th>\n",
              "      <th>No.of_bedrooms</th>\n",
              "      <th>layout_type</th>\n",
              "      <th>property_type</th>\n",
              "      <th>locality</th>\n",
              "      <th>Area(sq.ft)</th>\n",
              "      <th>furnish_type</th>\n",
              "      <th>No.of_bathrooms</th>\n",
              "      <th>property_type_Apartment</th>\n",
              "      <th>property_type_Independent Floor</th>\n",
              "      <th>property_type_Independent House</th>\n",
              "      <th>property_type_Penthouse</th>\n",
              "      <th>property_type_Studio Apartment</th>\n",
              "      <th>property_type_Villa</th>\n",
              "    </tr>\n",
              "  </thead>\n",
              "  <tbody>\n",
              "    <tr>\n",
              "      <th>0</th>\n",
              "      <td>1</td>\n",
              "      <td>6.226965</td>\n",
              "      <td>0</td>\n",
              "      <td>Studio Apartment</td>\n",
              "      <td>Serilingampally</td>\n",
              "      <td>6.227937</td>\n",
              "      <td>3</td>\n",
              "      <td>6.226965</td>\n",
              "      <td>0</td>\n",
              "      <td>0</td>\n",
              "      <td>0</td>\n",
              "      <td>0</td>\n",
              "      <td>1</td>\n",
              "      <td>0</td>\n",
              "    </tr>\n",
              "    <tr>\n",
              "      <th>1</th>\n",
              "      <td>1</td>\n",
              "      <td>6.226980</td>\n",
              "      <td>1</td>\n",
              "      <td>Villa</td>\n",
              "      <td>Sri Nagar Colony</td>\n",
              "      <td>6.230797</td>\n",
              "      <td>2</td>\n",
              "      <td>6.226976</td>\n",
              "      <td>0</td>\n",
              "      <td>0</td>\n",
              "      <td>0</td>\n",
              "      <td>0</td>\n",
              "      <td>0</td>\n",
              "      <td>1</td>\n",
              "    </tr>\n",
              "    <tr>\n",
              "      <th>2</th>\n",
              "      <td>1</td>\n",
              "      <td>6.226969</td>\n",
              "      <td>1</td>\n",
              "      <td>Independent House</td>\n",
              "      <td>Shaikpet</td>\n",
              "      <td>6.228993</td>\n",
              "      <td>2</td>\n",
              "      <td>6.226969</td>\n",
              "      <td>0</td>\n",
              "      <td>0</td>\n",
              "      <td>1</td>\n",
              "      <td>0</td>\n",
              "      <td>0</td>\n",
              "      <td>0</td>\n",
              "    </tr>\n",
              "    <tr>\n",
              "      <th>3</th>\n",
              "      <td>1</td>\n",
              "      <td>6.226973</td>\n",
              "      <td>1</td>\n",
              "      <td>Apartment</td>\n",
              "      <td>Nanakramguda</td>\n",
              "      <td>6.230261</td>\n",
              "      <td>1</td>\n",
              "      <td>6.226973</td>\n",
              "      <td>1</td>\n",
              "      <td>0</td>\n",
              "      <td>0</td>\n",
              "      <td>0</td>\n",
              "      <td>0</td>\n",
              "      <td>0</td>\n",
              "    </tr>\n",
              "    <tr>\n",
              "      <th>4</th>\n",
              "      <td>1</td>\n",
              "      <td>6.226973</td>\n",
              "      <td>1</td>\n",
              "      <td>Apartment</td>\n",
              "      <td>Locality_Kondapur</td>\n",
              "      <td>6.229792</td>\n",
              "      <td>2</td>\n",
              "      <td>6.226973</td>\n",
              "      <td>1</td>\n",
              "      <td>0</td>\n",
              "      <td>0</td>\n",
              "      <td>0</td>\n",
              "      <td>0</td>\n",
              "      <td>0</td>\n",
              "    </tr>\n",
              "  </tbody>\n",
              "</table>\n",
              "</div>"
            ],
            "text/plain": [
              "   seller_type  ...  property_type_Villa\n",
              "0            1  ...                    0\n",
              "1            1  ...                    1\n",
              "2            1  ...                    0\n",
              "3            1  ...                    0\n",
              "4            1  ...                    0\n",
              "\n",
              "[5 rows x 14 columns]"
            ]
          },
          "metadata": {},
          "execution_count": 100
        }
      ]
    },
    {
      "cell_type": "code",
      "metadata": {
        "colab": {
          "base_uri": "https://localhost:8080/",
          "height": 456
        },
        "id": "n60g1HeVrusO",
        "outputId": "84537cb7-3e4e-4f46-cc6e-ea28b5602f74"
      },
      "source": [
        "X.drop(columns=['property_type'])"
      ],
      "execution_count": 101,
      "outputs": [
        {
          "output_type": "execute_result",
          "data": {
            "text/html": [
              "<div>\n",
              "<style scoped>\n",
              "    .dataframe tbody tr th:only-of-type {\n",
              "        vertical-align: middle;\n",
              "    }\n",
              "\n",
              "    .dataframe tbody tr th {\n",
              "        vertical-align: top;\n",
              "    }\n",
              "\n",
              "    .dataframe thead th {\n",
              "        text-align: right;\n",
              "    }\n",
              "</style>\n",
              "<table border=\"1\" class=\"dataframe\">\n",
              "  <thead>\n",
              "    <tr style=\"text-align: right;\">\n",
              "      <th></th>\n",
              "      <th>seller_type</th>\n",
              "      <th>No.of_bedrooms</th>\n",
              "      <th>layout_type</th>\n",
              "      <th>locality</th>\n",
              "      <th>Area(sq.ft)</th>\n",
              "      <th>furnish_type</th>\n",
              "      <th>No.of_bathrooms</th>\n",
              "      <th>property_type_Apartment</th>\n",
              "      <th>property_type_Independent Floor</th>\n",
              "      <th>property_type_Independent House</th>\n",
              "      <th>property_type_Penthouse</th>\n",
              "      <th>property_type_Studio Apartment</th>\n",
              "      <th>property_type_Villa</th>\n",
              "    </tr>\n",
              "  </thead>\n",
              "  <tbody>\n",
              "    <tr>\n",
              "      <th>0</th>\n",
              "      <td>1</td>\n",
              "      <td>6.226965</td>\n",
              "      <td>0</td>\n",
              "      <td>Serilingampally</td>\n",
              "      <td>6.227937</td>\n",
              "      <td>3</td>\n",
              "      <td>6.226965</td>\n",
              "      <td>0</td>\n",
              "      <td>0</td>\n",
              "      <td>0</td>\n",
              "      <td>0</td>\n",
              "      <td>1</td>\n",
              "      <td>0</td>\n",
              "    </tr>\n",
              "    <tr>\n",
              "      <th>1</th>\n",
              "      <td>1</td>\n",
              "      <td>6.226980</td>\n",
              "      <td>1</td>\n",
              "      <td>Sri Nagar Colony</td>\n",
              "      <td>6.230797</td>\n",
              "      <td>2</td>\n",
              "      <td>6.226976</td>\n",
              "      <td>0</td>\n",
              "      <td>0</td>\n",
              "      <td>0</td>\n",
              "      <td>0</td>\n",
              "      <td>0</td>\n",
              "      <td>1</td>\n",
              "    </tr>\n",
              "    <tr>\n",
              "      <th>2</th>\n",
              "      <td>1</td>\n",
              "      <td>6.226969</td>\n",
              "      <td>1</td>\n",
              "      <td>Shaikpet</td>\n",
              "      <td>6.228993</td>\n",
              "      <td>2</td>\n",
              "      <td>6.226969</td>\n",
              "      <td>0</td>\n",
              "      <td>0</td>\n",
              "      <td>1</td>\n",
              "      <td>0</td>\n",
              "      <td>0</td>\n",
              "      <td>0</td>\n",
              "    </tr>\n",
              "    <tr>\n",
              "      <th>3</th>\n",
              "      <td>1</td>\n",
              "      <td>6.226973</td>\n",
              "      <td>1</td>\n",
              "      <td>Nanakramguda</td>\n",
              "      <td>6.230261</td>\n",
              "      <td>1</td>\n",
              "      <td>6.226973</td>\n",
              "      <td>1</td>\n",
              "      <td>0</td>\n",
              "      <td>0</td>\n",
              "      <td>0</td>\n",
              "      <td>0</td>\n",
              "      <td>0</td>\n",
              "    </tr>\n",
              "    <tr>\n",
              "      <th>4</th>\n",
              "      <td>1</td>\n",
              "      <td>6.226973</td>\n",
              "      <td>1</td>\n",
              "      <td>Locality_Kondapur</td>\n",
              "      <td>6.229792</td>\n",
              "      <td>2</td>\n",
              "      <td>6.226973</td>\n",
              "      <td>1</td>\n",
              "      <td>0</td>\n",
              "      <td>0</td>\n",
              "      <td>0</td>\n",
              "      <td>0</td>\n",
              "      <td>0</td>\n",
              "    </tr>\n",
              "    <tr>\n",
              "      <th>...</th>\n",
              "      <td>...</td>\n",
              "      <td>...</td>\n",
              "      <td>...</td>\n",
              "      <td>...</td>\n",
              "      <td>...</td>\n",
              "      <td>...</td>\n",
              "      <td>...</td>\n",
              "      <td>...</td>\n",
              "      <td>...</td>\n",
              "      <td>...</td>\n",
              "      <td>...</td>\n",
              "      <td>...</td>\n",
              "      <td>...</td>\n",
              "    </tr>\n",
              "    <tr>\n",
              "      <th>5881</th>\n",
              "      <td>0</td>\n",
              "      <td>6.226965</td>\n",
              "      <td>1</td>\n",
              "      <td>Locality_Begumpet</td>\n",
              "      <td>6.228921</td>\n",
              "      <td>2</td>\n",
              "      <td>6.226965</td>\n",
              "      <td>1</td>\n",
              "      <td>0</td>\n",
              "      <td>0</td>\n",
              "      <td>0</td>\n",
              "      <td>0</td>\n",
              "      <td>0</td>\n",
              "    </tr>\n",
              "    <tr>\n",
              "      <th>5882</th>\n",
              "      <td>0</td>\n",
              "      <td>6.226969</td>\n",
              "      <td>1</td>\n",
              "      <td>Locality_Ameerpet</td>\n",
              "      <td>6.229488</td>\n",
              "      <td>2</td>\n",
              "      <td>6.226969</td>\n",
              "      <td>1</td>\n",
              "      <td>0</td>\n",
              "      <td>0</td>\n",
              "      <td>0</td>\n",
              "      <td>0</td>\n",
              "      <td>0</td>\n",
              "    </tr>\n",
              "    <tr>\n",
              "      <th>5883</th>\n",
              "      <td>0</td>\n",
              "      <td>6.226969</td>\n",
              "      <td>1</td>\n",
              "      <td>Locality_Ameerpet</td>\n",
              "      <td>6.229375</td>\n",
              "      <td>2</td>\n",
              "      <td>6.226969</td>\n",
              "      <td>1</td>\n",
              "      <td>0</td>\n",
              "      <td>0</td>\n",
              "      <td>0</td>\n",
              "      <td>0</td>\n",
              "      <td>0</td>\n",
              "    </tr>\n",
              "    <tr>\n",
              "      <th>5884</th>\n",
              "      <td>0</td>\n",
              "      <td>6.226969</td>\n",
              "      <td>1</td>\n",
              "      <td>Locality_Begumpet</td>\n",
              "      <td>6.229488</td>\n",
              "      <td>3</td>\n",
              "      <td>6.226969</td>\n",
              "      <td>1</td>\n",
              "      <td>0</td>\n",
              "      <td>0</td>\n",
              "      <td>0</td>\n",
              "      <td>0</td>\n",
              "      <td>0</td>\n",
              "    </tr>\n",
              "    <tr>\n",
              "      <th>5885</th>\n",
              "      <td>0</td>\n",
              "      <td>6.226969</td>\n",
              "      <td>1</td>\n",
              "      <td>Somajiguda</td>\n",
              "      <td>6.229696</td>\n",
              "      <td>2</td>\n",
              "      <td>6.226969</td>\n",
              "      <td>1</td>\n",
              "      <td>0</td>\n",
              "      <td>0</td>\n",
              "      <td>0</td>\n",
              "      <td>0</td>\n",
              "      <td>0</td>\n",
              "    </tr>\n",
              "  </tbody>\n",
              "</table>\n",
              "<p>5886 rows × 13 columns</p>\n",
              "</div>"
            ],
            "text/plain": [
              "      seller_type  ...  property_type_Villa\n",
              "0               1  ...                    0\n",
              "1               1  ...                    1\n",
              "2               1  ...                    0\n",
              "3               1  ...                    0\n",
              "4               1  ...                    0\n",
              "...           ...  ...                  ...\n",
              "5881            0  ...                    0\n",
              "5882            0  ...                    0\n",
              "5883            0  ...                    0\n",
              "5884            0  ...                    0\n",
              "5885            0  ...                    0\n",
              "\n",
              "[5886 rows x 13 columns]"
            ]
          },
          "metadata": {},
          "execution_count": 101
        }
      ]
    },
    {
      "cell_type": "code",
      "metadata": {
        "colab": {
          "base_uri": "https://localhost:8080/"
        },
        "id": "JVURciuwrxEt",
        "outputId": "e186e008-ba54-4982-f897-e902a6a2ce14"
      },
      "source": [
        "len(X['locality'].unique())"
      ],
      "execution_count": 102,
      "outputs": [
        {
          "output_type": "execute_result",
          "data": {
            "text/plain": [
              "487"
            ]
          },
          "metadata": {},
          "execution_count": 102
        }
      ]
    },
    {
      "cell_type": "code",
      "metadata": {
        "colab": {
          "base_uri": "https://localhost:8080/"
        },
        "id": "uoEA3_xKt1FR",
        "outputId": "0d86c79a-0f47-417a-d904-1bbe3e54716a"
      },
      "source": [
        "#let us find the top 13 most frequent categories of locality\n",
        "data.locality.value_counts().sort_values(ascending=False).head(20)"
      ],
      "execution_count": 103,
      "outputs": [
        {
          "output_type": "execute_result",
          "data": {
            "text/plain": [
              "Locality_Kondapur                  640\n",
              "Locality_Madhapur                  270\n",
              "Locality_Kukatpally                204\n",
              "Locality_Gachibowli                198\n",
              "Locality_Manikonda                 174\n",
              "Locality_Begumpet                  167\n",
              "Locality_Ameerpet                  120\n",
              "Locality_Miyapur                   118\n",
              "Locality_Nallakunta                104\n",
              "Locality_Hitech City                98\n",
              "Locality_Chandanagar                95\n",
              "Locality_Anjaiah Nagar              91\n",
              "Locality_Banjara Hills              89\n",
              "Serilingampally                     71\n",
              "Nizampet                            71\n",
              "Somajiguda                          69\n",
              "Mehdipatnam                         63\n",
              "Nallagandla Locality_Gachibowli     61\n",
              "Amberpet                            54\n",
              "Bandlaguda Jagir                    54\n",
              "Name: locality, dtype: int64"
            ]
          },
          "metadata": {},
          "execution_count": 103
        }
      ]
    },
    {
      "cell_type": "code",
      "metadata": {
        "colab": {
          "base_uri": "https://localhost:8080/"
        },
        "id": "syT5VFFdt3rS",
        "outputId": "d47bee46-a2bc-4482-e8e6-9141d13e14ae"
      },
      "source": [
        "#let us create a list and store the most frequent categories of locality\n",
        "top_13=[i for i in data.locality.value_counts().sort_values(ascending=False).head(13).index]\n",
        "top_13"
      ],
      "execution_count": 105,
      "outputs": [
        {
          "output_type": "execute_result",
          "data": {
            "text/plain": [
              "['Locality_Kondapur',\n",
              " 'Locality_Madhapur',\n",
              " 'Locality_Kukatpally',\n",
              " 'Locality_Gachibowli',\n",
              " 'Locality_Manikonda',\n",
              " 'Locality_Begumpet',\n",
              " 'Locality_Ameerpet',\n",
              " 'Locality_Miyapur',\n",
              " 'Locality_Nallakunta',\n",
              " 'Locality_Hitech City',\n",
              " 'Locality_Chandanagar',\n",
              " 'Locality_Anjaiah Nagar',\n",
              " 'Locality_Banjara Hills']"
            ]
          },
          "metadata": {},
          "execution_count": 105
        }
      ]
    },
    {
      "cell_type": "code",
      "metadata": {
        "colab": {
          "base_uri": "https://localhost:8080/",
          "height": 275
        },
        "id": "0TfRJs0Nt9_f",
        "outputId": "0e781125-2a24-474e-cb8b-a312691efa28"
      },
      "source": [
        "for label in top_13:\n",
        "    X[label]=np.where(X['locality']==label ,1, 0)\n",
        "X.head()"
      ],
      "execution_count": 106,
      "outputs": [
        {
          "output_type": "execute_result",
          "data": {
            "text/html": [
              "<div>\n",
              "<style scoped>\n",
              "    .dataframe tbody tr th:only-of-type {\n",
              "        vertical-align: middle;\n",
              "    }\n",
              "\n",
              "    .dataframe tbody tr th {\n",
              "        vertical-align: top;\n",
              "    }\n",
              "\n",
              "    .dataframe thead th {\n",
              "        text-align: right;\n",
              "    }\n",
              "</style>\n",
              "<table border=\"1\" class=\"dataframe\">\n",
              "  <thead>\n",
              "    <tr style=\"text-align: right;\">\n",
              "      <th></th>\n",
              "      <th>seller_type</th>\n",
              "      <th>No.of_bedrooms</th>\n",
              "      <th>layout_type</th>\n",
              "      <th>property_type</th>\n",
              "      <th>locality</th>\n",
              "      <th>Area(sq.ft)</th>\n",
              "      <th>furnish_type</th>\n",
              "      <th>No.of_bathrooms</th>\n",
              "      <th>property_type_Apartment</th>\n",
              "      <th>property_type_Independent Floor</th>\n",
              "      <th>property_type_Independent House</th>\n",
              "      <th>property_type_Penthouse</th>\n",
              "      <th>property_type_Studio Apartment</th>\n",
              "      <th>property_type_Villa</th>\n",
              "      <th>Locality_Kondapur</th>\n",
              "      <th>Locality_Madhapur</th>\n",
              "      <th>Locality_Kukatpally</th>\n",
              "      <th>Locality_Gachibowli</th>\n",
              "      <th>Locality_Manikonda</th>\n",
              "      <th>Locality_Begumpet</th>\n",
              "      <th>Locality_Ameerpet</th>\n",
              "      <th>Locality_Miyapur</th>\n",
              "      <th>Locality_Nallakunta</th>\n",
              "      <th>Locality_Hitech City</th>\n",
              "      <th>Locality_Chandanagar</th>\n",
              "      <th>Locality_Anjaiah Nagar</th>\n",
              "      <th>Locality_Banjara Hills</th>\n",
              "    </tr>\n",
              "  </thead>\n",
              "  <tbody>\n",
              "    <tr>\n",
              "      <th>0</th>\n",
              "      <td>1</td>\n",
              "      <td>6.226965</td>\n",
              "      <td>0</td>\n",
              "      <td>Studio Apartment</td>\n",
              "      <td>Serilingampally</td>\n",
              "      <td>6.227937</td>\n",
              "      <td>3</td>\n",
              "      <td>6.226965</td>\n",
              "      <td>0</td>\n",
              "      <td>0</td>\n",
              "      <td>0</td>\n",
              "      <td>0</td>\n",
              "      <td>1</td>\n",
              "      <td>0</td>\n",
              "      <td>0</td>\n",
              "      <td>0</td>\n",
              "      <td>0</td>\n",
              "      <td>0</td>\n",
              "      <td>0</td>\n",
              "      <td>0</td>\n",
              "      <td>0</td>\n",
              "      <td>0</td>\n",
              "      <td>0</td>\n",
              "      <td>0</td>\n",
              "      <td>0</td>\n",
              "      <td>0</td>\n",
              "      <td>0</td>\n",
              "    </tr>\n",
              "    <tr>\n",
              "      <th>1</th>\n",
              "      <td>1</td>\n",
              "      <td>6.226980</td>\n",
              "      <td>1</td>\n",
              "      <td>Villa</td>\n",
              "      <td>Sri Nagar Colony</td>\n",
              "      <td>6.230797</td>\n",
              "      <td>2</td>\n",
              "      <td>6.226976</td>\n",
              "      <td>0</td>\n",
              "      <td>0</td>\n",
              "      <td>0</td>\n",
              "      <td>0</td>\n",
              "      <td>0</td>\n",
              "      <td>1</td>\n",
              "      <td>0</td>\n",
              "      <td>0</td>\n",
              "      <td>0</td>\n",
              "      <td>0</td>\n",
              "      <td>0</td>\n",
              "      <td>0</td>\n",
              "      <td>0</td>\n",
              "      <td>0</td>\n",
              "      <td>0</td>\n",
              "      <td>0</td>\n",
              "      <td>0</td>\n",
              "      <td>0</td>\n",
              "      <td>0</td>\n",
              "    </tr>\n",
              "    <tr>\n",
              "      <th>2</th>\n",
              "      <td>1</td>\n",
              "      <td>6.226969</td>\n",
              "      <td>1</td>\n",
              "      <td>Independent House</td>\n",
              "      <td>Shaikpet</td>\n",
              "      <td>6.228993</td>\n",
              "      <td>2</td>\n",
              "      <td>6.226969</td>\n",
              "      <td>0</td>\n",
              "      <td>0</td>\n",
              "      <td>1</td>\n",
              "      <td>0</td>\n",
              "      <td>0</td>\n",
              "      <td>0</td>\n",
              "      <td>0</td>\n",
              "      <td>0</td>\n",
              "      <td>0</td>\n",
              "      <td>0</td>\n",
              "      <td>0</td>\n",
              "      <td>0</td>\n",
              "      <td>0</td>\n",
              "      <td>0</td>\n",
              "      <td>0</td>\n",
              "      <td>0</td>\n",
              "      <td>0</td>\n",
              "      <td>0</td>\n",
              "      <td>0</td>\n",
              "    </tr>\n",
              "    <tr>\n",
              "      <th>3</th>\n",
              "      <td>1</td>\n",
              "      <td>6.226973</td>\n",
              "      <td>1</td>\n",
              "      <td>Apartment</td>\n",
              "      <td>Nanakramguda</td>\n",
              "      <td>6.230261</td>\n",
              "      <td>1</td>\n",
              "      <td>6.226973</td>\n",
              "      <td>1</td>\n",
              "      <td>0</td>\n",
              "      <td>0</td>\n",
              "      <td>0</td>\n",
              "      <td>0</td>\n",
              "      <td>0</td>\n",
              "      <td>0</td>\n",
              "      <td>0</td>\n",
              "      <td>0</td>\n",
              "      <td>0</td>\n",
              "      <td>0</td>\n",
              "      <td>0</td>\n",
              "      <td>0</td>\n",
              "      <td>0</td>\n",
              "      <td>0</td>\n",
              "      <td>0</td>\n",
              "      <td>0</td>\n",
              "      <td>0</td>\n",
              "      <td>0</td>\n",
              "    </tr>\n",
              "    <tr>\n",
              "      <th>4</th>\n",
              "      <td>1</td>\n",
              "      <td>6.226973</td>\n",
              "      <td>1</td>\n",
              "      <td>Apartment</td>\n",
              "      <td>Locality_Kondapur</td>\n",
              "      <td>6.229792</td>\n",
              "      <td>2</td>\n",
              "      <td>6.226973</td>\n",
              "      <td>1</td>\n",
              "      <td>0</td>\n",
              "      <td>0</td>\n",
              "      <td>0</td>\n",
              "      <td>0</td>\n",
              "      <td>0</td>\n",
              "      <td>1</td>\n",
              "      <td>0</td>\n",
              "      <td>0</td>\n",
              "      <td>0</td>\n",
              "      <td>0</td>\n",
              "      <td>0</td>\n",
              "      <td>0</td>\n",
              "      <td>0</td>\n",
              "      <td>0</td>\n",
              "      <td>0</td>\n",
              "      <td>0</td>\n",
              "      <td>0</td>\n",
              "      <td>0</td>\n",
              "    </tr>\n",
              "  </tbody>\n",
              "</table>\n",
              "</div>"
            ],
            "text/plain": [
              "   seller_type  No.of_bedrooms  ...  Locality_Anjaiah Nagar Locality_Banjara Hills\n",
              "0            1        6.226965  ...                       0                      0\n",
              "1            1        6.226980  ...                       0                      0\n",
              "2            1        6.226969  ...                       0                      0\n",
              "3            1        6.226973  ...                       0                      0\n",
              "4            1        6.226973  ...                       0                      0\n",
              "\n",
              "[5 rows x 27 columns]"
            ]
          },
          "metadata": {},
          "execution_count": 106
        }
      ]
    },
    {
      "cell_type": "code",
      "metadata": {
        "id": "5fjnHAOFuOGr"
      },
      "source": [
        "X.drop(columns=['locality','property_type'],inplace=True)"
      ],
      "execution_count": 107,
      "outputs": []
    },
    {
      "cell_type": "code",
      "metadata": {
        "colab": {
          "base_uri": "https://localhost:8080/"
        },
        "id": "v98cyB5fuprl",
        "outputId": "53c64963-9e77-4797-df66-3158e704454c"
      },
      "source": [
        "X.columns"
      ],
      "execution_count": 108,
      "outputs": [
        {
          "output_type": "execute_result",
          "data": {
            "text/plain": [
              "Index(['seller_type', 'No.of_bedrooms', 'layout_type', 'Area(sq.ft)',\n",
              "       'furnish_type', 'No.of_bathrooms', 'property_type_Apartment',\n",
              "       'property_type_Independent Floor', 'property_type_Independent House',\n",
              "       'property_type_Penthouse', 'property_type_Studio Apartment',\n",
              "       'property_type_Villa', 'Locality_Kondapur', 'Locality_Madhapur',\n",
              "       'Locality_Kukatpally', 'Locality_Gachibowli', 'Locality_Manikonda',\n",
              "       'Locality_Begumpet', 'Locality_Ameerpet', 'Locality_Miyapur',\n",
              "       'Locality_Nallakunta', 'Locality_Hitech City', 'Locality_Chandanagar',\n",
              "       'Locality_Anjaiah Nagar', 'Locality_Banjara Hills'],\n",
              "      dtype='object')"
            ]
          },
          "metadata": {},
          "execution_count": 108
        }
      ]
    },
    {
      "cell_type": "code",
      "metadata": {
        "colab": {
          "base_uri": "https://localhost:8080/",
          "height": 241
        },
        "id": "zZzBKYOVus8n",
        "outputId": "303f326f-448b-4d72-9bd1-38d13271ab59"
      },
      "source": [
        "from sklearn.preprocessing import StandardScaler\n",
        "scaler = StandardScaler()\n",
        "Y = data['price']\n",
        "X1 = scaler.fit_transform(X)\n",
        "X = pd.DataFrame(data = X1, columns = X.columns)\n",
        "X.head()"
      ],
      "execution_count": 109,
      "outputs": [
        {
          "output_type": "execute_result",
          "data": {
            "text/html": [
              "<div>\n",
              "<style scoped>\n",
              "    .dataframe tbody tr th:only-of-type {\n",
              "        vertical-align: middle;\n",
              "    }\n",
              "\n",
              "    .dataframe tbody tr th {\n",
              "        vertical-align: top;\n",
              "    }\n",
              "\n",
              "    .dataframe thead th {\n",
              "        text-align: right;\n",
              "    }\n",
              "</style>\n",
              "<table border=\"1\" class=\"dataframe\">\n",
              "  <thead>\n",
              "    <tr style=\"text-align: right;\">\n",
              "      <th></th>\n",
              "      <th>seller_type</th>\n",
              "      <th>No.of_bedrooms</th>\n",
              "      <th>layout_type</th>\n",
              "      <th>Area(sq.ft)</th>\n",
              "      <th>furnish_type</th>\n",
              "      <th>No.of_bathrooms</th>\n",
              "      <th>property_type_Apartment</th>\n",
              "      <th>property_type_Independent Floor</th>\n",
              "      <th>property_type_Independent House</th>\n",
              "      <th>property_type_Penthouse</th>\n",
              "      <th>property_type_Studio Apartment</th>\n",
              "      <th>property_type_Villa</th>\n",
              "      <th>Locality_Kondapur</th>\n",
              "      <th>Locality_Madhapur</th>\n",
              "      <th>Locality_Kukatpally</th>\n",
              "      <th>Locality_Gachibowli</th>\n",
              "      <th>Locality_Manikonda</th>\n",
              "      <th>Locality_Begumpet</th>\n",
              "      <th>Locality_Ameerpet</th>\n",
              "      <th>Locality_Miyapur</th>\n",
              "      <th>Locality_Nallakunta</th>\n",
              "      <th>Locality_Hitech City</th>\n",
              "      <th>Locality_Chandanagar</th>\n",
              "      <th>Locality_Anjaiah Nagar</th>\n",
              "      <th>Locality_Banjara Hills</th>\n",
              "    </tr>\n",
              "  </thead>\n",
              "  <tbody>\n",
              "    <tr>\n",
              "      <th>0</th>\n",
              "      <td>0.860758</td>\n",
              "      <td>-1.141423</td>\n",
              "      <td>-4.661102</td>\n",
              "      <td>-1.881776</td>\n",
              "      <td>1.818553</td>\n",
              "      <td>-1.107436</td>\n",
              "      <td>-1.310037</td>\n",
              "      <td>-0.369773</td>\n",
              "      <td>-0.467043</td>\n",
              "      <td>-0.045198</td>\n",
              "      <td>4.661102</td>\n",
              "      <td>-0.152631</td>\n",
              "      <td>-0.349282</td>\n",
              "      <td>-0.219265</td>\n",
              "      <td>-0.18948</td>\n",
              "      <td>-0.186575</td>\n",
              "      <td>-0.174534</td>\n",
              "      <td>-0.170883</td>\n",
              "      <td>-0.144262</td>\n",
              "      <td>-0.14303</td>\n",
              "      <td>-0.134115</td>\n",
              "      <td>-0.130121</td>\n",
              "      <td>-0.128081</td>\n",
              "      <td>-0.125312</td>\n",
              "      <td>-0.123906</td>\n",
              "    </tr>\n",
              "    <tr>\n",
              "      <th>1</th>\n",
              "      <td>0.860758</td>\n",
              "      <td>3.210453</td>\n",
              "      <td>0.214542</td>\n",
              "      <td>2.122284</td>\n",
              "      <td>0.264997</td>\n",
              "      <td>2.242775</td>\n",
              "      <td>-1.310037</td>\n",
              "      <td>-0.369773</td>\n",
              "      <td>-0.467043</td>\n",
              "      <td>-0.045198</td>\n",
              "      <td>-0.214542</td>\n",
              "      <td>6.551746</td>\n",
              "      <td>-0.349282</td>\n",
              "      <td>-0.219265</td>\n",
              "      <td>-0.18948</td>\n",
              "      <td>-0.186575</td>\n",
              "      <td>-0.174534</td>\n",
              "      <td>-0.170883</td>\n",
              "      <td>-0.144262</td>\n",
              "      <td>-0.14303</td>\n",
              "      <td>-0.134115</td>\n",
              "      <td>-0.130121</td>\n",
              "      <td>-0.128081</td>\n",
              "      <td>-0.125312</td>\n",
              "      <td>-0.123906</td>\n",
              "    </tr>\n",
              "    <tr>\n",
              "      <th>2</th>\n",
              "      <td>0.860758</td>\n",
              "      <td>-0.050199</td>\n",
              "      <td>0.214542</td>\n",
              "      <td>-0.404531</td>\n",
              "      <td>0.264997</td>\n",
              "      <td>0.011529</td>\n",
              "      <td>-1.310037</td>\n",
              "      <td>-0.369773</td>\n",
              "      <td>2.141131</td>\n",
              "      <td>-0.045198</td>\n",
              "      <td>-0.214542</td>\n",
              "      <td>-0.152631</td>\n",
              "      <td>-0.349282</td>\n",
              "      <td>-0.219265</td>\n",
              "      <td>-0.18948</td>\n",
              "      <td>-0.186575</td>\n",
              "      <td>-0.174534</td>\n",
              "      <td>-0.170883</td>\n",
              "      <td>-0.144262</td>\n",
              "      <td>-0.14303</td>\n",
              "      <td>-0.134115</td>\n",
              "      <td>-0.130121</td>\n",
              "      <td>-0.128081</td>\n",
              "      <td>-0.125312</td>\n",
              "      <td>-0.123906</td>\n",
              "    </tr>\n",
              "    <tr>\n",
              "      <th>3</th>\n",
              "      <td>0.860758</td>\n",
              "      <td>1.038850</td>\n",
              "      <td>0.214542</td>\n",
              "      <td>1.371137</td>\n",
              "      <td>-1.288560</td>\n",
              "      <td>1.128263</td>\n",
              "      <td>0.763337</td>\n",
              "      <td>-0.369773</td>\n",
              "      <td>-0.467043</td>\n",
              "      <td>-0.045198</td>\n",
              "      <td>-0.214542</td>\n",
              "      <td>-0.152631</td>\n",
              "      <td>-0.349282</td>\n",
              "      <td>-0.219265</td>\n",
              "      <td>-0.18948</td>\n",
              "      <td>-0.186575</td>\n",
              "      <td>-0.174534</td>\n",
              "      <td>-0.170883</td>\n",
              "      <td>-0.144262</td>\n",
              "      <td>-0.14303</td>\n",
              "      <td>-0.134115</td>\n",
              "      <td>-0.130121</td>\n",
              "      <td>-0.128081</td>\n",
              "      <td>-0.125312</td>\n",
              "      <td>-0.123906</td>\n",
              "    </tr>\n",
              "    <tr>\n",
              "      <th>4</th>\n",
              "      <td>0.860758</td>\n",
              "      <td>1.038850</td>\n",
              "      <td>0.214542</td>\n",
              "      <td>0.714165</td>\n",
              "      <td>0.264997</td>\n",
              "      <td>1.128263</td>\n",
              "      <td>0.763337</td>\n",
              "      <td>-0.369773</td>\n",
              "      <td>-0.467043</td>\n",
              "      <td>-0.045198</td>\n",
              "      <td>-0.214542</td>\n",
              "      <td>-0.152631</td>\n",
              "      <td>2.863019</td>\n",
              "      <td>-0.219265</td>\n",
              "      <td>-0.18948</td>\n",
              "      <td>-0.186575</td>\n",
              "      <td>-0.174534</td>\n",
              "      <td>-0.170883</td>\n",
              "      <td>-0.144262</td>\n",
              "      <td>-0.14303</td>\n",
              "      <td>-0.134115</td>\n",
              "      <td>-0.130121</td>\n",
              "      <td>-0.128081</td>\n",
              "      <td>-0.125312</td>\n",
              "      <td>-0.123906</td>\n",
              "    </tr>\n",
              "  </tbody>\n",
              "</table>\n",
              "</div>"
            ],
            "text/plain": [
              "   seller_type  No.of_bedrooms  ...  Locality_Anjaiah Nagar  Locality_Banjara Hills\n",
              "0     0.860758       -1.141423  ...               -0.125312               -0.123906\n",
              "1     0.860758        3.210453  ...               -0.125312               -0.123906\n",
              "2     0.860758       -0.050199  ...               -0.125312               -0.123906\n",
              "3     0.860758        1.038850  ...               -0.125312               -0.123906\n",
              "4     0.860758        1.038850  ...               -0.125312               -0.123906\n",
              "\n",
              "[5 rows x 25 columns]"
            ]
          },
          "metadata": {},
          "execution_count": 109
        }
      ]
    },
    {
      "cell_type": "code",
      "metadata": {
        "colab": {
          "base_uri": "https://localhost:8080/",
          "height": 912
        },
        "id": "IEuV3kcUuyY0",
        "outputId": "3ba3107c-8a13-485e-cc57-41bc5e44eecb"
      },
      "source": [
        "X.corr()"
      ],
      "execution_count": 111,
      "outputs": [
        {
          "output_type": "execute_result",
          "data": {
            "text/html": [
              "<div>\n",
              "<style scoped>\n",
              "    .dataframe tbody tr th:only-of-type {\n",
              "        vertical-align: middle;\n",
              "    }\n",
              "\n",
              "    .dataframe tbody tr th {\n",
              "        vertical-align: top;\n",
              "    }\n",
              "\n",
              "    .dataframe thead th {\n",
              "        text-align: right;\n",
              "    }\n",
              "</style>\n",
              "<table border=\"1\" class=\"dataframe\">\n",
              "  <thead>\n",
              "    <tr style=\"text-align: right;\">\n",
              "      <th></th>\n",
              "      <th>seller_type</th>\n",
              "      <th>No.of_bedrooms</th>\n",
              "      <th>layout_type</th>\n",
              "      <th>Area(sq.ft)</th>\n",
              "      <th>furnish_type</th>\n",
              "      <th>No.of_bathrooms</th>\n",
              "      <th>property_type_Apartment</th>\n",
              "      <th>property_type_Independent Floor</th>\n",
              "      <th>property_type_Independent House</th>\n",
              "      <th>property_type_Penthouse</th>\n",
              "      <th>property_type_Studio Apartment</th>\n",
              "      <th>property_type_Villa</th>\n",
              "      <th>Locality_Kondapur</th>\n",
              "      <th>Locality_Madhapur</th>\n",
              "      <th>Locality_Kukatpally</th>\n",
              "      <th>Locality_Gachibowli</th>\n",
              "      <th>Locality_Manikonda</th>\n",
              "      <th>Locality_Begumpet</th>\n",
              "      <th>Locality_Ameerpet</th>\n",
              "      <th>Locality_Miyapur</th>\n",
              "      <th>Locality_Nallakunta</th>\n",
              "      <th>Locality_Hitech City</th>\n",
              "      <th>Locality_Chandanagar</th>\n",
              "      <th>Locality_Anjaiah Nagar</th>\n",
              "      <th>Locality_Banjara Hills</th>\n",
              "    </tr>\n",
              "  </thead>\n",
              "  <tbody>\n",
              "    <tr>\n",
              "      <th>seller_type</th>\n",
              "      <td>1.000000</td>\n",
              "      <td>0.043688</td>\n",
              "      <td>-0.052316</td>\n",
              "      <td>0.016340</td>\n",
              "      <td>-0.072221</td>\n",
              "      <td>0.048597</td>\n",
              "      <td>-0.342861</td>\n",
              "      <td>0.161950</td>\n",
              "      <td>0.244278</td>\n",
              "      <td>0.031287</td>\n",
              "      <td>0.052316</td>\n",
              "      <td>0.046140</td>\n",
              "      <td>-0.261186</td>\n",
              "      <td>-0.152901</td>\n",
              "      <td>0.050383</td>\n",
              "      <td>0.004319</td>\n",
              "      <td>0.077197</td>\n",
              "      <td>-0.138509</td>\n",
              "      <td>-0.121402</td>\n",
              "      <td>0.069181</td>\n",
              "      <td>-0.101039</td>\n",
              "      <td>-0.067922</td>\n",
              "      <td>0.055711</td>\n",
              "      <td>-0.145584</td>\n",
              "      <td>0.002470</td>\n",
              "    </tr>\n",
              "    <tr>\n",
              "      <th>No.of_bedrooms</th>\n",
              "      <td>0.043688</td>\n",
              "      <td>1.000000</td>\n",
              "      <td>0.244883</td>\n",
              "      <td>0.813844</td>\n",
              "      <td>0.266144</td>\n",
              "      <td>0.853239</td>\n",
              "      <td>0.126026</td>\n",
              "      <td>-0.064462</td>\n",
              "      <td>-0.054431</td>\n",
              "      <td>-0.018718</td>\n",
              "      <td>-0.244883</td>\n",
              "      <td>0.215380</td>\n",
              "      <td>-0.014272</td>\n",
              "      <td>-0.026313</td>\n",
              "      <td>0.007577</td>\n",
              "      <td>0.060245</td>\n",
              "      <td>0.064282</td>\n",
              "      <td>-0.064484</td>\n",
              "      <td>-0.074188</td>\n",
              "      <td>0.021811</td>\n",
              "      <td>-0.040545</td>\n",
              "      <td>0.085914</td>\n",
              "      <td>0.028783</td>\n",
              "      <td>-0.109978</td>\n",
              "      <td>0.030008</td>\n",
              "    </tr>\n",
              "    <tr>\n",
              "      <th>layout_type</th>\n",
              "      <td>-0.052316</td>\n",
              "      <td>0.244883</td>\n",
              "      <td>1.000000</td>\n",
              "      <td>0.321968</td>\n",
              "      <td>0.105294</td>\n",
              "      <td>0.227395</td>\n",
              "      <td>0.281057</td>\n",
              "      <td>0.079332</td>\n",
              "      <td>0.100200</td>\n",
              "      <td>0.009697</td>\n",
              "      <td>-1.000000</td>\n",
              "      <td>0.032746</td>\n",
              "      <td>0.048326</td>\n",
              "      <td>-0.024229</td>\n",
              "      <td>-0.000106</td>\n",
              "      <td>0.003274</td>\n",
              "      <td>0.017882</td>\n",
              "      <td>-0.023207</td>\n",
              "      <td>-0.039387</td>\n",
              "      <td>0.018866</td>\n",
              "      <td>0.009911</td>\n",
              "      <td>0.008495</td>\n",
              "      <td>0.020905</td>\n",
              "      <td>-0.013400</td>\n",
              "      <td>-0.007356</td>\n",
              "    </tr>\n",
              "    <tr>\n",
              "      <th>Area(sq.ft)</th>\n",
              "      <td>0.016340</td>\n",
              "      <td>0.813844</td>\n",
              "      <td>0.321968</td>\n",
              "      <td>1.000000</td>\n",
              "      <td>0.288011</td>\n",
              "      <td>0.788924</td>\n",
              "      <td>0.128198</td>\n",
              "      <td>-0.065297</td>\n",
              "      <td>-0.033106</td>\n",
              "      <td>-0.028278</td>\n",
              "      <td>-0.321968</td>\n",
              "      <td>0.264252</td>\n",
              "      <td>0.029676</td>\n",
              "      <td>0.008099</td>\n",
              "      <td>-0.009994</td>\n",
              "      <td>0.060476</td>\n",
              "      <td>0.061368</td>\n",
              "      <td>-0.070112</td>\n",
              "      <td>-0.071583</td>\n",
              "      <td>0.008646</td>\n",
              "      <td>-0.050662</td>\n",
              "      <td>0.096286</td>\n",
              "      <td>0.024530</td>\n",
              "      <td>-0.144033</td>\n",
              "      <td>0.040413</td>\n",
              "    </tr>\n",
              "    <tr>\n",
              "      <th>furnish_type</th>\n",
              "      <td>-0.072221</td>\n",
              "      <td>0.266144</td>\n",
              "      <td>0.105294</td>\n",
              "      <td>0.288011</td>\n",
              "      <td>1.000000</td>\n",
              "      <td>0.257358</td>\n",
              "      <td>0.237706</td>\n",
              "      <td>-0.112973</td>\n",
              "      <td>-0.171560</td>\n",
              "      <td>-0.028983</td>\n",
              "      <td>-0.105294</td>\n",
              "      <td>0.072299</td>\n",
              "      <td>0.068818</td>\n",
              "      <td>0.074506</td>\n",
              "      <td>-0.003179</td>\n",
              "      <td>0.107998</td>\n",
              "      <td>0.049368</td>\n",
              "      <td>-0.040559</td>\n",
              "      <td>-0.004727</td>\n",
              "      <td>0.002124</td>\n",
              "      <td>-0.008535</td>\n",
              "      <td>0.040670</td>\n",
              "      <td>0.012996</td>\n",
              "      <td>0.095248</td>\n",
              "      <td>0.019858</td>\n",
              "    </tr>\n",
              "    <tr>\n",
              "      <th>No.of_bathrooms</th>\n",
              "      <td>0.048597</td>\n",
              "      <td>0.853239</td>\n",
              "      <td>0.227395</td>\n",
              "      <td>0.788924</td>\n",
              "      <td>0.257358</td>\n",
              "      <td>1.000000</td>\n",
              "      <td>0.098013</td>\n",
              "      <td>-0.083559</td>\n",
              "      <td>-0.030802</td>\n",
              "      <td>-0.024767</td>\n",
              "      <td>-0.227395</td>\n",
              "      <td>0.264655</td>\n",
              "      <td>-0.023737</td>\n",
              "      <td>-0.008683</td>\n",
              "      <td>0.002054</td>\n",
              "      <td>0.050414</td>\n",
              "      <td>0.066855</td>\n",
              "      <td>-0.069067</td>\n",
              "      <td>-0.072358</td>\n",
              "      <td>0.016490</td>\n",
              "      <td>-0.038900</td>\n",
              "      <td>0.106605</td>\n",
              "      <td>0.022528</td>\n",
              "      <td>-0.107961</td>\n",
              "      <td>0.021473</td>\n",
              "    </tr>\n",
              "    <tr>\n",
              "      <th>property_type_Apartment</th>\n",
              "      <td>-0.342861</td>\n",
              "      <td>0.126026</td>\n",
              "      <td>0.281057</td>\n",
              "      <td>0.128198</td>\n",
              "      <td>0.237706</td>\n",
              "      <td>0.098013</td>\n",
              "      <td>1.000000</td>\n",
              "      <td>-0.484417</td>\n",
              "      <td>-0.611844</td>\n",
              "      <td>-0.059212</td>\n",
              "      <td>-0.281057</td>\n",
              "      <td>-0.199952</td>\n",
              "      <td>0.210042</td>\n",
              "      <td>0.073082</td>\n",
              "      <td>0.036792</td>\n",
              "      <td>0.052548</td>\n",
              "      <td>0.050039</td>\n",
              "      <td>0.066794</td>\n",
              "      <td>0.047806</td>\n",
              "      <td>0.046351</td>\n",
              "      <td>0.000772</td>\n",
              "      <td>0.066291</td>\n",
              "      <td>0.019499</td>\n",
              "      <td>0.038552</td>\n",
              "      <td>-0.000674</td>\n",
              "    </tr>\n",
              "    <tr>\n",
              "      <th>property_type_Independent Floor</th>\n",
              "      <td>0.161950</td>\n",
              "      <td>-0.064462</td>\n",
              "      <td>0.079332</td>\n",
              "      <td>-0.065297</td>\n",
              "      <td>-0.112973</td>\n",
              "      <td>-0.083559</td>\n",
              "      <td>-0.484417</td>\n",
              "      <td>1.000000</td>\n",
              "      <td>-0.172700</td>\n",
              "      <td>-0.016713</td>\n",
              "      <td>-0.079332</td>\n",
              "      <td>-0.056439</td>\n",
              "      <td>-0.090568</td>\n",
              "      <td>-0.066099</td>\n",
              "      <td>-0.010103</td>\n",
              "      <td>-0.028436</td>\n",
              "      <td>-0.039870</td>\n",
              "      <td>-0.044314</td>\n",
              "      <td>-0.027475</td>\n",
              "      <td>-0.030531</td>\n",
              "      <td>0.021765</td>\n",
              "      <td>-0.044034</td>\n",
              "      <td>-0.010059</td>\n",
              "      <td>0.012928</td>\n",
              "      <td>0.001261</td>\n",
              "    </tr>\n",
              "    <tr>\n",
              "      <th>property_type_Independent House</th>\n",
              "      <td>0.244278</td>\n",
              "      <td>-0.054431</td>\n",
              "      <td>0.100200</td>\n",
              "      <td>-0.033106</td>\n",
              "      <td>-0.171560</td>\n",
              "      <td>-0.030802</td>\n",
              "      <td>-0.611844</td>\n",
              "      <td>-0.172700</td>\n",
              "      <td>1.000000</td>\n",
              "      <td>-0.021110</td>\n",
              "      <td>-0.100200</td>\n",
              "      <td>-0.071285</td>\n",
              "      <td>-0.146049</td>\n",
              "      <td>-0.038864</td>\n",
              "      <td>-0.030355</td>\n",
              "      <td>-0.033070</td>\n",
              "      <td>-0.013494</td>\n",
              "      <td>-0.047784</td>\n",
              "      <td>-0.048564</td>\n",
              "      <td>-0.022541</td>\n",
              "      <td>-0.005459</td>\n",
              "      <td>-0.046920</td>\n",
              "      <td>-0.000041</td>\n",
              "      <td>-0.058526</td>\n",
              "      <td>0.003859</td>\n",
              "    </tr>\n",
              "    <tr>\n",
              "      <th>property_type_Penthouse</th>\n",
              "      <td>0.031287</td>\n",
              "      <td>-0.018718</td>\n",
              "      <td>0.009697</td>\n",
              "      <td>-0.028278</td>\n",
              "      <td>-0.028983</td>\n",
              "      <td>-0.024767</td>\n",
              "      <td>-0.059212</td>\n",
              "      <td>-0.016713</td>\n",
              "      <td>-0.021110</td>\n",
              "      <td>1.000000</td>\n",
              "      <td>-0.009697</td>\n",
              "      <td>-0.006899</td>\n",
              "      <td>-0.015787</td>\n",
              "      <td>-0.009910</td>\n",
              "      <td>-0.008564</td>\n",
              "      <td>-0.008433</td>\n",
              "      <td>-0.007889</td>\n",
              "      <td>-0.007724</td>\n",
              "      <td>-0.006520</td>\n",
              "      <td>-0.006465</td>\n",
              "      <td>-0.006062</td>\n",
              "      <td>-0.005881</td>\n",
              "      <td>-0.005789</td>\n",
              "      <td>-0.005664</td>\n",
              "      <td>-0.005600</td>\n",
              "    </tr>\n",
              "    <tr>\n",
              "      <th>property_type_Studio Apartment</th>\n",
              "      <td>0.052316</td>\n",
              "      <td>-0.244883</td>\n",
              "      <td>-1.000000</td>\n",
              "      <td>-0.321968</td>\n",
              "      <td>-0.105294</td>\n",
              "      <td>-0.227395</td>\n",
              "      <td>-0.281057</td>\n",
              "      <td>-0.079332</td>\n",
              "      <td>-0.100200</td>\n",
              "      <td>-0.009697</td>\n",
              "      <td>1.000000</td>\n",
              "      <td>-0.032746</td>\n",
              "      <td>-0.048326</td>\n",
              "      <td>0.024229</td>\n",
              "      <td>0.000106</td>\n",
              "      <td>-0.003274</td>\n",
              "      <td>-0.017882</td>\n",
              "      <td>0.023207</td>\n",
              "      <td>0.039387</td>\n",
              "      <td>-0.018866</td>\n",
              "      <td>-0.009911</td>\n",
              "      <td>-0.008495</td>\n",
              "      <td>-0.020905</td>\n",
              "      <td>0.013400</td>\n",
              "      <td>0.007356</td>\n",
              "    </tr>\n",
              "    <tr>\n",
              "      <th>property_type_Villa</th>\n",
              "      <td>0.046140</td>\n",
              "      <td>0.215380</td>\n",
              "      <td>0.032746</td>\n",
              "      <td>0.264252</td>\n",
              "      <td>0.072299</td>\n",
              "      <td>0.264655</td>\n",
              "      <td>-0.199952</td>\n",
              "      <td>-0.056439</td>\n",
              "      <td>-0.071285</td>\n",
              "      <td>-0.006899</td>\n",
              "      <td>-0.032746</td>\n",
              "      <td>1.000000</td>\n",
              "      <td>-0.035017</td>\n",
              "      <td>-0.022577</td>\n",
              "      <td>-0.016466</td>\n",
              "      <td>-0.015842</td>\n",
              "      <td>-0.013189</td>\n",
              "      <td>-0.026082</td>\n",
              "      <td>-0.022019</td>\n",
              "      <td>0.002549</td>\n",
              "      <td>-0.020470</td>\n",
              "      <td>0.015747</td>\n",
              "      <td>-0.010510</td>\n",
              "      <td>-0.019127</td>\n",
              "      <td>-0.018912</td>\n",
              "    </tr>\n",
              "    <tr>\n",
              "      <th>Locality_Kondapur</th>\n",
              "      <td>-0.261186</td>\n",
              "      <td>-0.014272</td>\n",
              "      <td>0.048326</td>\n",
              "      <td>0.029676</td>\n",
              "      <td>0.068818</td>\n",
              "      <td>-0.023737</td>\n",
              "      <td>0.210042</td>\n",
              "      <td>-0.090568</td>\n",
              "      <td>-0.146049</td>\n",
              "      <td>-0.015787</td>\n",
              "      <td>-0.048326</td>\n",
              "      <td>-0.035017</td>\n",
              "      <td>1.000000</td>\n",
              "      <td>-0.076585</td>\n",
              "      <td>-0.066182</td>\n",
              "      <td>-0.065167</td>\n",
              "      <td>-0.060962</td>\n",
              "      <td>-0.059686</td>\n",
              "      <td>-0.050388</td>\n",
              "      <td>-0.049958</td>\n",
              "      <td>-0.046844</td>\n",
              "      <td>-0.045449</td>\n",
              "      <td>-0.044736</td>\n",
              "      <td>-0.043769</td>\n",
              "      <td>-0.043278</td>\n",
              "    </tr>\n",
              "    <tr>\n",
              "      <th>Locality_Madhapur</th>\n",
              "      <td>-0.152901</td>\n",
              "      <td>-0.026313</td>\n",
              "      <td>-0.024229</td>\n",
              "      <td>0.008099</td>\n",
              "      <td>0.074506</td>\n",
              "      <td>-0.008683</td>\n",
              "      <td>0.073082</td>\n",
              "      <td>-0.066099</td>\n",
              "      <td>-0.038864</td>\n",
              "      <td>-0.009910</td>\n",
              "      <td>0.024229</td>\n",
              "      <td>-0.022577</td>\n",
              "      <td>-0.076585</td>\n",
              "      <td>1.000000</td>\n",
              "      <td>-0.041546</td>\n",
              "      <td>-0.040909</td>\n",
              "      <td>-0.038269</td>\n",
              "      <td>-0.037469</td>\n",
              "      <td>-0.031632</td>\n",
              "      <td>-0.031361</td>\n",
              "      <td>-0.029407</td>\n",
              "      <td>-0.028531</td>\n",
              "      <td>-0.028084</td>\n",
              "      <td>-0.027477</td>\n",
              "      <td>-0.027168</td>\n",
              "    </tr>\n",
              "    <tr>\n",
              "      <th>Locality_Kukatpally</th>\n",
              "      <td>0.050383</td>\n",
              "      <td>0.007577</td>\n",
              "      <td>-0.000106</td>\n",
              "      <td>-0.009994</td>\n",
              "      <td>-0.003179</td>\n",
              "      <td>0.002054</td>\n",
              "      <td>0.036792</td>\n",
              "      <td>-0.010103</td>\n",
              "      <td>-0.030355</td>\n",
              "      <td>-0.008564</td>\n",
              "      <td>0.000106</td>\n",
              "      <td>-0.016466</td>\n",
              "      <td>-0.066182</td>\n",
              "      <td>-0.041546</td>\n",
              "      <td>1.000000</td>\n",
              "      <td>-0.035352</td>\n",
              "      <td>-0.033071</td>\n",
              "      <td>-0.032379</td>\n",
              "      <td>-0.027335</td>\n",
              "      <td>-0.027101</td>\n",
              "      <td>-0.025412</td>\n",
              "      <td>-0.024655</td>\n",
              "      <td>-0.024269</td>\n",
              "      <td>-0.023744</td>\n",
              "      <td>-0.023478</td>\n",
              "    </tr>\n",
              "    <tr>\n",
              "      <th>Locality_Gachibowli</th>\n",
              "      <td>0.004319</td>\n",
              "      <td>0.060245</td>\n",
              "      <td>0.003274</td>\n",
              "      <td>0.060476</td>\n",
              "      <td>0.107998</td>\n",
              "      <td>0.050414</td>\n",
              "      <td>0.052548</td>\n",
              "      <td>-0.028436</td>\n",
              "      <td>-0.033070</td>\n",
              "      <td>-0.008433</td>\n",
              "      <td>-0.003274</td>\n",
              "      <td>-0.015842</td>\n",
              "      <td>-0.065167</td>\n",
              "      <td>-0.040909</td>\n",
              "      <td>-0.035352</td>\n",
              "      <td>1.000000</td>\n",
              "      <td>-0.032564</td>\n",
              "      <td>-0.031882</td>\n",
              "      <td>-0.026916</td>\n",
              "      <td>-0.026686</td>\n",
              "      <td>-0.025022</td>\n",
              "      <td>-0.024277</td>\n",
              "      <td>-0.023897</td>\n",
              "      <td>-0.023380</td>\n",
              "      <td>-0.023118</td>\n",
              "    </tr>\n",
              "    <tr>\n",
              "      <th>Locality_Manikonda</th>\n",
              "      <td>0.077197</td>\n",
              "      <td>0.064282</td>\n",
              "      <td>0.017882</td>\n",
              "      <td>0.061368</td>\n",
              "      <td>0.049368</td>\n",
              "      <td>0.066855</td>\n",
              "      <td>0.050039</td>\n",
              "      <td>-0.039870</td>\n",
              "      <td>-0.013494</td>\n",
              "      <td>-0.007889</td>\n",
              "      <td>-0.017882</td>\n",
              "      <td>-0.013189</td>\n",
              "      <td>-0.060962</td>\n",
              "      <td>-0.038269</td>\n",
              "      <td>-0.033071</td>\n",
              "      <td>-0.032564</td>\n",
              "      <td>1.000000</td>\n",
              "      <td>-0.029825</td>\n",
              "      <td>-0.025179</td>\n",
              "      <td>-0.024964</td>\n",
              "      <td>-0.023408</td>\n",
              "      <td>-0.022711</td>\n",
              "      <td>-0.022355</td>\n",
              "      <td>-0.021871</td>\n",
              "      <td>-0.021626</td>\n",
              "    </tr>\n",
              "    <tr>\n",
              "      <th>Locality_Begumpet</th>\n",
              "      <td>-0.138509</td>\n",
              "      <td>-0.064484</td>\n",
              "      <td>-0.023207</td>\n",
              "      <td>-0.070112</td>\n",
              "      <td>-0.040559</td>\n",
              "      <td>-0.069067</td>\n",
              "      <td>0.066794</td>\n",
              "      <td>-0.044314</td>\n",
              "      <td>-0.047784</td>\n",
              "      <td>-0.007724</td>\n",
              "      <td>0.023207</td>\n",
              "      <td>-0.026082</td>\n",
              "      <td>-0.059686</td>\n",
              "      <td>-0.037469</td>\n",
              "      <td>-0.032379</td>\n",
              "      <td>-0.031882</td>\n",
              "      <td>-0.029825</td>\n",
              "      <td>1.000000</td>\n",
              "      <td>-0.024652</td>\n",
              "      <td>-0.024441</td>\n",
              "      <td>-0.022918</td>\n",
              "      <td>-0.022236</td>\n",
              "      <td>-0.021887</td>\n",
              "      <td>-0.021414</td>\n",
              "      <td>-0.021173</td>\n",
              "    </tr>\n",
              "    <tr>\n",
              "      <th>Locality_Ameerpet</th>\n",
              "      <td>-0.121402</td>\n",
              "      <td>-0.074188</td>\n",
              "      <td>-0.039387</td>\n",
              "      <td>-0.071583</td>\n",
              "      <td>-0.004727</td>\n",
              "      <td>-0.072358</td>\n",
              "      <td>0.047806</td>\n",
              "      <td>-0.027475</td>\n",
              "      <td>-0.048564</td>\n",
              "      <td>-0.006520</td>\n",
              "      <td>0.039387</td>\n",
              "      <td>-0.022019</td>\n",
              "      <td>-0.050388</td>\n",
              "      <td>-0.031632</td>\n",
              "      <td>-0.027335</td>\n",
              "      <td>-0.026916</td>\n",
              "      <td>-0.025179</td>\n",
              "      <td>-0.024652</td>\n",
              "      <td>1.000000</td>\n",
              "      <td>-0.020634</td>\n",
              "      <td>-0.019348</td>\n",
              "      <td>-0.018772</td>\n",
              "      <td>-0.018477</td>\n",
              "      <td>-0.018078</td>\n",
              "      <td>-0.017875</td>\n",
              "    </tr>\n",
              "    <tr>\n",
              "      <th>Locality_Miyapur</th>\n",
              "      <td>0.069181</td>\n",
              "      <td>0.021811</td>\n",
              "      <td>0.018866</td>\n",
              "      <td>0.008646</td>\n",
              "      <td>0.002124</td>\n",
              "      <td>0.016490</td>\n",
              "      <td>0.046351</td>\n",
              "      <td>-0.030531</td>\n",
              "      <td>-0.022541</td>\n",
              "      <td>-0.006465</td>\n",
              "      <td>-0.018866</td>\n",
              "      <td>0.002549</td>\n",
              "      <td>-0.049958</td>\n",
              "      <td>-0.031361</td>\n",
              "      <td>-0.027101</td>\n",
              "      <td>-0.026686</td>\n",
              "      <td>-0.024964</td>\n",
              "      <td>-0.024441</td>\n",
              "      <td>-0.020634</td>\n",
              "      <td>1.000000</td>\n",
              "      <td>-0.019183</td>\n",
              "      <td>-0.018611</td>\n",
              "      <td>-0.018319</td>\n",
              "      <td>-0.017923</td>\n",
              "      <td>-0.017722</td>\n",
              "    </tr>\n",
              "    <tr>\n",
              "      <th>Locality_Nallakunta</th>\n",
              "      <td>-0.101039</td>\n",
              "      <td>-0.040545</td>\n",
              "      <td>0.009911</td>\n",
              "      <td>-0.050662</td>\n",
              "      <td>-0.008535</td>\n",
              "      <td>-0.038900</td>\n",
              "      <td>0.000772</td>\n",
              "      <td>0.021765</td>\n",
              "      <td>-0.005459</td>\n",
              "      <td>-0.006062</td>\n",
              "      <td>-0.009911</td>\n",
              "      <td>-0.020470</td>\n",
              "      <td>-0.046844</td>\n",
              "      <td>-0.029407</td>\n",
              "      <td>-0.025412</td>\n",
              "      <td>-0.025022</td>\n",
              "      <td>-0.023408</td>\n",
              "      <td>-0.022918</td>\n",
              "      <td>-0.019348</td>\n",
              "      <td>-0.019183</td>\n",
              "      <td>1.000000</td>\n",
              "      <td>-0.017451</td>\n",
              "      <td>-0.017178</td>\n",
              "      <td>-0.016806</td>\n",
              "      <td>-0.016618</td>\n",
              "    </tr>\n",
              "    <tr>\n",
              "      <th>Locality_Hitech City</th>\n",
              "      <td>-0.067922</td>\n",
              "      <td>0.085914</td>\n",
              "      <td>0.008495</td>\n",
              "      <td>0.096286</td>\n",
              "      <td>0.040670</td>\n",
              "      <td>0.106605</td>\n",
              "      <td>0.066291</td>\n",
              "      <td>-0.044034</td>\n",
              "      <td>-0.046920</td>\n",
              "      <td>-0.005881</td>\n",
              "      <td>-0.008495</td>\n",
              "      <td>0.015747</td>\n",
              "      <td>-0.045449</td>\n",
              "      <td>-0.028531</td>\n",
              "      <td>-0.024655</td>\n",
              "      <td>-0.024277</td>\n",
              "      <td>-0.022711</td>\n",
              "      <td>-0.022236</td>\n",
              "      <td>-0.018772</td>\n",
              "      <td>-0.018611</td>\n",
              "      <td>-0.017451</td>\n",
              "      <td>1.000000</td>\n",
              "      <td>-0.016666</td>\n",
              "      <td>-0.016306</td>\n",
              "      <td>-0.016123</td>\n",
              "    </tr>\n",
              "    <tr>\n",
              "      <th>Locality_Chandanagar</th>\n",
              "      <td>0.055711</td>\n",
              "      <td>0.028783</td>\n",
              "      <td>0.020905</td>\n",
              "      <td>0.024530</td>\n",
              "      <td>0.012996</td>\n",
              "      <td>0.022528</td>\n",
              "      <td>0.019499</td>\n",
              "      <td>-0.010059</td>\n",
              "      <td>-0.000041</td>\n",
              "      <td>-0.005789</td>\n",
              "      <td>-0.020905</td>\n",
              "      <td>-0.010510</td>\n",
              "      <td>-0.044736</td>\n",
              "      <td>-0.028084</td>\n",
              "      <td>-0.024269</td>\n",
              "      <td>-0.023897</td>\n",
              "      <td>-0.022355</td>\n",
              "      <td>-0.021887</td>\n",
              "      <td>-0.018477</td>\n",
              "      <td>-0.018319</td>\n",
              "      <td>-0.017178</td>\n",
              "      <td>-0.016666</td>\n",
              "      <td>1.000000</td>\n",
              "      <td>-0.016050</td>\n",
              "      <td>-0.015870</td>\n",
              "    </tr>\n",
              "    <tr>\n",
              "      <th>Locality_Anjaiah Nagar</th>\n",
              "      <td>-0.145584</td>\n",
              "      <td>-0.109978</td>\n",
              "      <td>-0.013400</td>\n",
              "      <td>-0.144033</td>\n",
              "      <td>0.095248</td>\n",
              "      <td>-0.107961</td>\n",
              "      <td>0.038552</td>\n",
              "      <td>0.012928</td>\n",
              "      <td>-0.058526</td>\n",
              "      <td>-0.005664</td>\n",
              "      <td>0.013400</td>\n",
              "      <td>-0.019127</td>\n",
              "      <td>-0.043769</td>\n",
              "      <td>-0.027477</td>\n",
              "      <td>-0.023744</td>\n",
              "      <td>-0.023380</td>\n",
              "      <td>-0.021871</td>\n",
              "      <td>-0.021414</td>\n",
              "      <td>-0.018078</td>\n",
              "      <td>-0.017923</td>\n",
              "      <td>-0.016806</td>\n",
              "      <td>-0.016306</td>\n",
              "      <td>-0.016050</td>\n",
              "      <td>1.000000</td>\n",
              "      <td>-0.015527</td>\n",
              "    </tr>\n",
              "    <tr>\n",
              "      <th>Locality_Banjara Hills</th>\n",
              "      <td>0.002470</td>\n",
              "      <td>0.030008</td>\n",
              "      <td>-0.007356</td>\n",
              "      <td>0.040413</td>\n",
              "      <td>0.019858</td>\n",
              "      <td>0.021473</td>\n",
              "      <td>-0.000674</td>\n",
              "      <td>0.001261</td>\n",
              "      <td>0.003859</td>\n",
              "      <td>-0.005600</td>\n",
              "      <td>0.007356</td>\n",
              "      <td>-0.018912</td>\n",
              "      <td>-0.043278</td>\n",
              "      <td>-0.027168</td>\n",
              "      <td>-0.023478</td>\n",
              "      <td>-0.023118</td>\n",
              "      <td>-0.021626</td>\n",
              "      <td>-0.021173</td>\n",
              "      <td>-0.017875</td>\n",
              "      <td>-0.017722</td>\n",
              "      <td>-0.016618</td>\n",
              "      <td>-0.016123</td>\n",
              "      <td>-0.015870</td>\n",
              "      <td>-0.015527</td>\n",
              "      <td>1.000000</td>\n",
              "    </tr>\n",
              "  </tbody>\n",
              "</table>\n",
              "</div>"
            ],
            "text/plain": [
              "                                 seller_type  ...  Locality_Banjara Hills\n",
              "seller_type                         1.000000  ...                0.002470\n",
              "No.of_bedrooms                      0.043688  ...                0.030008\n",
              "layout_type                        -0.052316  ...               -0.007356\n",
              "Area(sq.ft)                         0.016340  ...                0.040413\n",
              "furnish_type                       -0.072221  ...                0.019858\n",
              "No.of_bathrooms                     0.048597  ...                0.021473\n",
              "property_type_Apartment            -0.342861  ...               -0.000674\n",
              "property_type_Independent Floor     0.161950  ...                0.001261\n",
              "property_type_Independent House     0.244278  ...                0.003859\n",
              "property_type_Penthouse             0.031287  ...               -0.005600\n",
              "property_type_Studio Apartment      0.052316  ...                0.007356\n",
              "property_type_Villa                 0.046140  ...               -0.018912\n",
              "Locality_Kondapur                  -0.261186  ...               -0.043278\n",
              "Locality_Madhapur                  -0.152901  ...               -0.027168\n",
              "Locality_Kukatpally                 0.050383  ...               -0.023478\n",
              "Locality_Gachibowli                 0.004319  ...               -0.023118\n",
              "Locality_Manikonda                  0.077197  ...               -0.021626\n",
              "Locality_Begumpet                  -0.138509  ...               -0.021173\n",
              "Locality_Ameerpet                  -0.121402  ...               -0.017875\n",
              "Locality_Miyapur                    0.069181  ...               -0.017722\n",
              "Locality_Nallakunta                -0.101039  ...               -0.016618\n",
              "Locality_Hitech City               -0.067922  ...               -0.016123\n",
              "Locality_Chandanagar                0.055711  ...               -0.015870\n",
              "Locality_Anjaiah Nagar             -0.145584  ...               -0.015527\n",
              "Locality_Banjara Hills              0.002470  ...                1.000000\n",
              "\n",
              "[25 rows x 25 columns]"
            ]
          },
          "metadata": {},
          "execution_count": 111
        }
      ]
    },
    {
      "cell_type": "code",
      "metadata": {
        "colab": {
          "base_uri": "https://localhost:8080/"
        },
        "id": "U74ZtuiTvF0i",
        "outputId": "fecc9a00-0126-4ad6-dcbd-354c092411aa"
      },
      "source": [
        "## pair of independent variables with correlation greater than 0.5\n",
        "k = X.corr()\n",
        "z = [[str(i),str(j)] for i in k.columns for j in k.columns if (k.loc[i,j] >abs(0.5))&(i!=j)]\n",
        "z, len(z)"
      ],
      "execution_count": 112,
      "outputs": [
        {
          "output_type": "execute_result",
          "data": {
            "text/plain": [
              "([['No.of_bedrooms', 'Area(sq.ft)'],\n",
              "  ['No.of_bedrooms', 'No.of_bathrooms'],\n",
              "  ['Area(sq.ft)', 'No.of_bedrooms'],\n",
              "  ['Area(sq.ft)', 'No.of_bathrooms'],\n",
              "  ['No.of_bathrooms', 'No.of_bedrooms'],\n",
              "  ['No.of_bathrooms', 'Area(sq.ft)']],\n",
              " 6)"
            ]
          },
          "metadata": {},
          "execution_count": 112
        }
      ]
    },
    {
      "cell_type": "code",
      "metadata": {
        "colab": {
          "base_uri": "https://localhost:8080/"
        },
        "id": "hURgljl7v5UN",
        "outputId": "2526f3f7-1481-4d02-abe1-3d404512cd52"
      },
      "source": [
        "# Importing Variance_inflation_Factor funtion from the Statsmodels\n",
        "from statsmodels.stats.outliers_influence import variance_inflation_factor\n",
        "\n",
        "vif_data = X[:]\n",
        "\n",
        "## Calculating VIF for every column\n",
        "VIF = pd.Series([variance_inflation_factor(vif_data.values, i) for i in range(vif_data.shape[1])], index = vif_data.columns)\n",
        "VIF"
      ],
      "execution_count": 113,
      "outputs": [
        {
          "output_type": "stream",
          "text": [
            "/usr/local/lib/python3.7/dist-packages/statsmodels/tools/_testing.py:19: FutureWarning: pandas.util.testing is deprecated. Use the functions in the public API at pandas.testing instead.\n",
            "  import pandas.util.testing as tm\n",
            "/usr/local/lib/python3.7/dist-packages/statsmodels/stats/outliers_influence.py:185: RuntimeWarning: divide by zero encountered in double_scalars\n",
            "  vif = 1. / (1. - r_squared_i)\n"
          ],
          "name": "stderr"
        },
        {
          "output_type": "execute_result",
          "data": {
            "text/plain": [
              "seller_type                           1.370317\n",
              "No.of_bedrooms                        4.626331\n",
              "layout_type                                inf\n",
              "Area(sq.ft)                           3.631175\n",
              "furnish_type                          1.194961\n",
              "No.of_bathrooms                       4.172360\n",
              "property_type_Apartment                    inf\n",
              "property_type_Independent Floor            inf\n",
              "property_type_Independent House            inf\n",
              "property_type_Penthouse                    inf\n",
              "property_type_Studio Apartment             inf\n",
              "property_type_Villa                5393.828062\n",
              "Locality_Kondapur                     1.224470\n",
              "Locality_Madhapur                     1.098673\n",
              "Locality_Kukatpally                   1.030321\n",
              "Locality_Gachibowli                   1.046676\n",
              "Locality_Manikonda                    1.037183\n",
              "Locality_Begumpet                     1.069088\n",
              "Locality_Ameerpet                     1.054802\n",
              "Locality_Miyapur                      1.024046\n",
              "Locality_Nallakunta                   1.037994\n",
              "Locality_Hitech City                  1.041531\n",
              "Locality_Chandanagar                  1.015752\n",
              "Locality_Anjaiah Nagar                1.097949\n",
              "Locality_Banjara Hills                1.015725\n",
              "dtype: float64"
            ]
          },
          "metadata": {},
          "execution_count": 113
        }
      ]
    },
    {
      "cell_type": "code",
      "metadata": {
        "id": "v4zLEHdewakC"
      },
      "source": [
        "#defining a function MC_remover to remove the multi collinearity between variables\n",
        "\n",
        "def MC_remover(data):\n",
        "  vif = pd.Series([variance_inflation_factor(data.values, i) for i in range(data.shape[1])], index = data.columns)\n",
        "  if vif.max() > 5:\n",
        "    print(vif[vif == vif.max()].index[0],'has been removed')\n",
        "    data = data.drop(columns = [vif[vif == vif.max()].index[0]])\n",
        "    return data\n",
        "  else:\n",
        "    print('No Multicollinearity present anymore')\n",
        "    return data"
      ],
      "execution_count": 114,
      "outputs": []
    },
    {
      "cell_type": "code",
      "metadata": {
        "colab": {
          "base_uri": "https://localhost:8080/",
          "height": 428
        },
        "id": "YvWUfeALwt6i",
        "outputId": "6a88ed5a-33d2-49ba-9005-46a559be9cd2"
      },
      "source": [
        "\n",
        "for i in range(7):\n",
        "  vif_data = MC_remover(vif_data)\n",
        "\n",
        "vif_data.head()"
      ],
      "execution_count": 115,
      "outputs": [
        {
          "output_type": "stream",
          "text": [
            "/usr/local/lib/python3.7/dist-packages/statsmodels/stats/outliers_influence.py:185: RuntimeWarning: divide by zero encountered in double_scalars\n",
            "  vif = 1. / (1. - r_squared_i)\n"
          ],
          "name": "stderr"
        },
        {
          "output_type": "stream",
          "text": [
            "layout_type has been removed\n"
          ],
          "name": "stdout"
        },
        {
          "output_type": "stream",
          "text": [
            "/usr/local/lib/python3.7/dist-packages/statsmodels/stats/outliers_influence.py:185: RuntimeWarning: divide by zero encountered in double_scalars\n",
            "  vif = 1. / (1. - r_squared_i)\n"
          ],
          "name": "stderr"
        },
        {
          "output_type": "stream",
          "text": [
            "property_type_Apartment has been removed\n",
            "No Multicollinearity present anymore\n",
            "No Multicollinearity present anymore\n",
            "No Multicollinearity present anymore\n",
            "No Multicollinearity present anymore\n",
            "No Multicollinearity present anymore\n"
          ],
          "name": "stdout"
        },
        {
          "output_type": "execute_result",
          "data": {
            "text/html": [
              "<div>\n",
              "<style scoped>\n",
              "    .dataframe tbody tr th:only-of-type {\n",
              "        vertical-align: middle;\n",
              "    }\n",
              "\n",
              "    .dataframe tbody tr th {\n",
              "        vertical-align: top;\n",
              "    }\n",
              "\n",
              "    .dataframe thead th {\n",
              "        text-align: right;\n",
              "    }\n",
              "</style>\n",
              "<table border=\"1\" class=\"dataframe\">\n",
              "  <thead>\n",
              "    <tr style=\"text-align: right;\">\n",
              "      <th></th>\n",
              "      <th>seller_type</th>\n",
              "      <th>No.of_bedrooms</th>\n",
              "      <th>Area(sq.ft)</th>\n",
              "      <th>furnish_type</th>\n",
              "      <th>No.of_bathrooms</th>\n",
              "      <th>property_type_Independent Floor</th>\n",
              "      <th>property_type_Independent House</th>\n",
              "      <th>property_type_Penthouse</th>\n",
              "      <th>property_type_Studio Apartment</th>\n",
              "      <th>property_type_Villa</th>\n",
              "      <th>Locality_Kondapur</th>\n",
              "      <th>Locality_Madhapur</th>\n",
              "      <th>Locality_Kukatpally</th>\n",
              "      <th>Locality_Gachibowli</th>\n",
              "      <th>Locality_Manikonda</th>\n",
              "      <th>Locality_Begumpet</th>\n",
              "      <th>Locality_Ameerpet</th>\n",
              "      <th>Locality_Miyapur</th>\n",
              "      <th>Locality_Nallakunta</th>\n",
              "      <th>Locality_Hitech City</th>\n",
              "      <th>Locality_Chandanagar</th>\n",
              "      <th>Locality_Anjaiah Nagar</th>\n",
              "      <th>Locality_Banjara Hills</th>\n",
              "    </tr>\n",
              "  </thead>\n",
              "  <tbody>\n",
              "    <tr>\n",
              "      <th>0</th>\n",
              "      <td>0.860758</td>\n",
              "      <td>-1.141423</td>\n",
              "      <td>-1.881776</td>\n",
              "      <td>1.818553</td>\n",
              "      <td>-1.107436</td>\n",
              "      <td>-0.369773</td>\n",
              "      <td>-0.467043</td>\n",
              "      <td>-0.045198</td>\n",
              "      <td>4.661102</td>\n",
              "      <td>-0.152631</td>\n",
              "      <td>-0.349282</td>\n",
              "      <td>-0.219265</td>\n",
              "      <td>-0.18948</td>\n",
              "      <td>-0.186575</td>\n",
              "      <td>-0.174534</td>\n",
              "      <td>-0.170883</td>\n",
              "      <td>-0.144262</td>\n",
              "      <td>-0.14303</td>\n",
              "      <td>-0.134115</td>\n",
              "      <td>-0.130121</td>\n",
              "      <td>-0.128081</td>\n",
              "      <td>-0.125312</td>\n",
              "      <td>-0.123906</td>\n",
              "    </tr>\n",
              "    <tr>\n",
              "      <th>1</th>\n",
              "      <td>0.860758</td>\n",
              "      <td>3.210453</td>\n",
              "      <td>2.122284</td>\n",
              "      <td>0.264997</td>\n",
              "      <td>2.242775</td>\n",
              "      <td>-0.369773</td>\n",
              "      <td>-0.467043</td>\n",
              "      <td>-0.045198</td>\n",
              "      <td>-0.214542</td>\n",
              "      <td>6.551746</td>\n",
              "      <td>-0.349282</td>\n",
              "      <td>-0.219265</td>\n",
              "      <td>-0.18948</td>\n",
              "      <td>-0.186575</td>\n",
              "      <td>-0.174534</td>\n",
              "      <td>-0.170883</td>\n",
              "      <td>-0.144262</td>\n",
              "      <td>-0.14303</td>\n",
              "      <td>-0.134115</td>\n",
              "      <td>-0.130121</td>\n",
              "      <td>-0.128081</td>\n",
              "      <td>-0.125312</td>\n",
              "      <td>-0.123906</td>\n",
              "    </tr>\n",
              "    <tr>\n",
              "      <th>2</th>\n",
              "      <td>0.860758</td>\n",
              "      <td>-0.050199</td>\n",
              "      <td>-0.404531</td>\n",
              "      <td>0.264997</td>\n",
              "      <td>0.011529</td>\n",
              "      <td>-0.369773</td>\n",
              "      <td>2.141131</td>\n",
              "      <td>-0.045198</td>\n",
              "      <td>-0.214542</td>\n",
              "      <td>-0.152631</td>\n",
              "      <td>-0.349282</td>\n",
              "      <td>-0.219265</td>\n",
              "      <td>-0.18948</td>\n",
              "      <td>-0.186575</td>\n",
              "      <td>-0.174534</td>\n",
              "      <td>-0.170883</td>\n",
              "      <td>-0.144262</td>\n",
              "      <td>-0.14303</td>\n",
              "      <td>-0.134115</td>\n",
              "      <td>-0.130121</td>\n",
              "      <td>-0.128081</td>\n",
              "      <td>-0.125312</td>\n",
              "      <td>-0.123906</td>\n",
              "    </tr>\n",
              "    <tr>\n",
              "      <th>3</th>\n",
              "      <td>0.860758</td>\n",
              "      <td>1.038850</td>\n",
              "      <td>1.371137</td>\n",
              "      <td>-1.288560</td>\n",
              "      <td>1.128263</td>\n",
              "      <td>-0.369773</td>\n",
              "      <td>-0.467043</td>\n",
              "      <td>-0.045198</td>\n",
              "      <td>-0.214542</td>\n",
              "      <td>-0.152631</td>\n",
              "      <td>-0.349282</td>\n",
              "      <td>-0.219265</td>\n",
              "      <td>-0.18948</td>\n",
              "      <td>-0.186575</td>\n",
              "      <td>-0.174534</td>\n",
              "      <td>-0.170883</td>\n",
              "      <td>-0.144262</td>\n",
              "      <td>-0.14303</td>\n",
              "      <td>-0.134115</td>\n",
              "      <td>-0.130121</td>\n",
              "      <td>-0.128081</td>\n",
              "      <td>-0.125312</td>\n",
              "      <td>-0.123906</td>\n",
              "    </tr>\n",
              "    <tr>\n",
              "      <th>4</th>\n",
              "      <td>0.860758</td>\n",
              "      <td>1.038850</td>\n",
              "      <td>0.714165</td>\n",
              "      <td>0.264997</td>\n",
              "      <td>1.128263</td>\n",
              "      <td>-0.369773</td>\n",
              "      <td>-0.467043</td>\n",
              "      <td>-0.045198</td>\n",
              "      <td>-0.214542</td>\n",
              "      <td>-0.152631</td>\n",
              "      <td>2.863019</td>\n",
              "      <td>-0.219265</td>\n",
              "      <td>-0.18948</td>\n",
              "      <td>-0.186575</td>\n",
              "      <td>-0.174534</td>\n",
              "      <td>-0.170883</td>\n",
              "      <td>-0.144262</td>\n",
              "      <td>-0.14303</td>\n",
              "      <td>-0.134115</td>\n",
              "      <td>-0.130121</td>\n",
              "      <td>-0.128081</td>\n",
              "      <td>-0.125312</td>\n",
              "      <td>-0.123906</td>\n",
              "    </tr>\n",
              "  </tbody>\n",
              "</table>\n",
              "</div>"
            ],
            "text/plain": [
              "   seller_type  No.of_bedrooms  ...  Locality_Anjaiah Nagar  Locality_Banjara Hills\n",
              "0     0.860758       -1.141423  ...               -0.125312               -0.123906\n",
              "1     0.860758        3.210453  ...               -0.125312               -0.123906\n",
              "2     0.860758       -0.050199  ...               -0.125312               -0.123906\n",
              "3     0.860758        1.038850  ...               -0.125312               -0.123906\n",
              "4     0.860758        1.038850  ...               -0.125312               -0.123906\n",
              "\n",
              "[5 rows x 23 columns]"
            ]
          },
          "metadata": {},
          "execution_count": 115
        }
      ]
    },
    {
      "cell_type": "code",
      "metadata": {
        "colab": {
          "base_uri": "https://localhost:8080/"
        },
        "id": "uq_7S_SCw5BC",
        "outputId": "311063ed-79e7-42e9-e40e-bf908bab3ffb"
      },
      "source": [
        "# Calculating VIF for remaining columns\n",
        "VIF = pd.Series([variance_inflation_factor(vif_data.values, i) for i in range(vif_data.shape[1])], index = vif_data.columns)\n",
        "VIF, len(vif_data.columns)"
      ],
      "execution_count": 116,
      "outputs": [
        {
          "output_type": "execute_result",
          "data": {
            "text/plain": [
              "(seller_type                        1.370317\n",
              " No.of_bedrooms                     4.630024\n",
              " Area(sq.ft)                        3.631175\n",
              " furnish_type                       1.194961\n",
              " No.of_bathrooms                    4.172360\n",
              " property_type_Independent Floor    1.176958\n",
              " property_type_Independent House    1.253689\n",
              " property_type_Penthouse            1.007331\n",
              " property_type_Studio Apartment     1.184670\n",
              " property_type_Villa                1.117693\n",
              " Locality_Kondapur                  1.224490\n",
              " Locality_Madhapur                  1.098677\n",
              " Locality_Kukatpally                1.030329\n",
              " Locality_Gachibowli                1.046676\n",
              " Locality_Manikonda                 1.037199\n",
              " Locality_Begumpet                  1.069088\n",
              " Locality_Ameerpet                  1.054802\n",
              " Locality_Miyapur                   1.024066\n",
              " Locality_Nallakunta                1.037998\n",
              " Locality_Hitech City               1.041534\n",
              " Locality_Chandanagar               1.015772\n",
              " Locality_Anjaiah Nagar             1.097951\n",
              " Locality_Banjara Hills             1.015730\n",
              " dtype: float64, 23)"
            ]
          },
          "metadata": {},
          "execution_count": 116
        }
      ]
    },
    {
      "cell_type": "code",
      "metadata": {
        "id": "LmVsYUr5w_Wg"
      },
      "source": [
        "X=vif_data[:]"
      ],
      "execution_count": 117,
      "outputs": []
    },
    {
      "cell_type": "code",
      "metadata": {
        "id": "16MIcPUqxEyJ"
      },
      "source": [
        "Y=data[\"price\"]"
      ],
      "execution_count": 118,
      "outputs": []
    },
    {
      "cell_type": "code",
      "metadata": {
        "colab": {
          "base_uri": "https://localhost:8080/"
        },
        "id": "LhZZxjuBxGgA",
        "outputId": "6b415ebf-6f60-40d8-c8a0-989d4b9d70f2"
      },
      "source": [
        "from sklearn.model_selection import train_test_split\n",
        "x_train, x_test, y_train, y_test = train_test_split(X, Y, test_size = 0.3, random_state = 101)\n",
        "\n",
        "x_train.shape, x_test.shape, y_train.shape, y_test.shape"
      ],
      "execution_count": 119,
      "outputs": [
        {
          "output_type": "execute_result",
          "data": {
            "text/plain": [
              "((4120, 23), (1766, 23), (4120,), (1766,))"
            ]
          },
          "metadata": {},
          "execution_count": 119
        }
      ]
    },
    {
      "cell_type": "code",
      "metadata": {
        "colab": {
          "base_uri": "https://localhost:8080/"
        },
        "id": "Tqq_AEaBxJE1",
        "outputId": "e57ddd11-476d-46f9-9ee0-30da58b7db78"
      },
      "source": [
        "from sklearn.linear_model import LinearRegression\n",
        "lr = LinearRegression(normalize = True)\n",
        "lr.fit(x_train, y_train)"
      ],
      "execution_count": 120,
      "outputs": [
        {
          "output_type": "execute_result",
          "data": {
            "text/plain": [
              "LinearRegression(copy_X=True, fit_intercept=True, n_jobs=None, normalize=True)"
            ]
          },
          "metadata": {},
          "execution_count": 120
        }
      ]
    },
    {
      "cell_type": "code",
      "metadata": {
        "colab": {
          "base_uri": "https://localhost:8080/"
        },
        "id": "npRsHPkmxULa",
        "outputId": "749f1dd2-a49e-4b1d-bd55-6e70a3869472"
      },
      "source": [
        "lr.coef_"
      ],
      "execution_count": 125,
      "outputs": [
        {
          "output_type": "execute_result",
          "data": {
            "text/plain": [
              "array([-1120.97980327,  2571.51817911,  3397.54164271,  1672.05694014,\n",
              "        1227.51792576,  -599.0059936 ,  -992.72671321,   -38.36111436,\n",
              "          24.64402149,  -114.57782083,   379.47486848,   772.38044267,\n",
              "         380.91844681,   992.87605974,   489.02213702,   -50.24907537,\n",
              "        -174.68073107,    21.86005716,  -196.43253253,   887.58329771,\n",
              "          16.25392543,   267.01962533,   599.68744171])"
            ]
          },
          "metadata": {},
          "execution_count": 125
        }
      ]
    },
    {
      "cell_type": "code",
      "metadata": {
        "id": "gLx3eQSUxZVZ"
      },
      "source": [
        "predictions=lr.predict(x_test)"
      ],
      "execution_count": 126,
      "outputs": []
    },
    {
      "cell_type": "code",
      "metadata": {
        "colab": {
          "base_uri": "https://localhost:8080/"
        },
        "id": "0swf5_lfxw8F",
        "outputId": "f1970750-72c1-4ac2-96f8-1b6e54885035"
      },
      "source": [
        "lr.score(x_test,y_test)"
      ],
      "execution_count": 127,
      "outputs": [
        {
          "output_type": "execute_result",
          "data": {
            "text/plain": [
              "0.7342137740891936"
            ]
          },
          "metadata": {},
          "execution_count": 127
        }
      ]
    },
    {
      "cell_type": "code",
      "metadata": {
        "colab": {
          "base_uri": "https://localhost:8080/",
          "height": 312
        },
        "id": "tq2pR9Gnx0CV",
        "outputId": "dbb2b457-8bd3-45c0-cc18-2f70c417a5f0"
      },
      "source": [
        "g = sns.regplot(x=lr.predict(x_test), y=y_test, fit_reg=True)\n",
        "g.set(xlabel='Predicted House rent Prices', ylabel='Actual House rent Prices', title='Model Predictions')\n",
        "plt.title('Regression Plot for Actual vs Predicted Values')"
      ],
      "execution_count": 128,
      "outputs": [
        {
          "output_type": "execute_result",
          "data": {
            "text/plain": [
              "Text(0.5, 1.0, 'Regression Plot for Actual vs Predicted Values')"
            ]
          },
          "metadata": {},
          "execution_count": 128
        },
        {
          "output_type": "display_data",
          "data": {
            "image/png": "[encoded data removed]",
            "text/plain": [
              "<Figure size 432x288 with 1 Axes>"
            ]
          },
          "metadata": {
            "needs_background": "light"
          }
        }
      ]
    },
    {
      "cell_type": "code",
      "metadata": {
        "id": "xYwp73YvyFgK"
      },
      "source": [
        "residuals = predictions - y_test\n",
        "\n",
        "residual_table = pd.DataFrame({'residuals':residuals,\n",
        "                    'predictions':predictions})\n",
        "residual_table = residual_table.sort_values( by = 'predictions')"
      ],
      "execution_count": 129,
      "outputs": []
    },
    {
      "cell_type": "code",
      "metadata": {
        "colab": {
          "base_uri": "https://localhost:8080/",
          "height": 549
        },
        "id": "z6-S3mb1yuYw",
        "outputId": "dfac53f6-3ae6-4901-8a97-70acd22ec5f5"
      },
      "source": [
        "z = [i for i in range(int(residual_table['predictions'].max()))]\n",
        "k = [0 for i in range(int(residual_table['predictions'].max()))]\n",
        "\n",
        "plt.figure(dpi = 130, figsize = (17,7))\n",
        "plt.scatter( residual_table['predictions'], residual_table['residuals'], color = 'red', s = 2)\n",
        "plt.plot(z, k, color = 'green', linewidth = 3, label = 'regression line')\n",
        "plt.ylim(-800000, 800000)\n",
        "plt.xlabel('fitted points (ordered by predictions)')\n",
        "plt.ylabel('residuals')\n",
        "plt.title('residual plot')\n",
        "plt.legend()\n",
        "plt.show()"
      ],
      "execution_count": 131,
      "outputs": [
        {
          "output_type": "display_data",
          "data": {
            "image/png": "[encoded data removed]",
            "text/plain": [
              "<Figure size 2210x910 with 1 Axes>"
            ]
          },
          "metadata": {
            "needs_background": "light"
          }
        }
      ]
    },
    {
      "cell_type": "markdown",
      "metadata": {
        "id": "nkIklcU4zS5O"
      },
      "source": [
        "#Distribution of Errors"
      ]
    },
    {
      "cell_type": "code",
      "metadata": {
        "colab": {
          "base_uri": "https://localhost:8080/",
          "height": 631
        },
        "id": "qqCuvRrxy1Tj",
        "outputId": "a0edb8db-a891-4c74-a73f-9c817f8cea8d"
      },
      "source": [
        "plt.figure(dpi = 100, figsize = (10,7))\n",
        "plt.hist(residual_table['residuals'], color = 'red', bins = 200)\n",
        "plt.xlabel('residuals')\n",
        "plt.ylabel('frequency')\n",
        "plt.title('distribution of residuals')\n",
        "plt.show()"
      ],
      "execution_count": 132,
      "outputs": [
        {
          "output_type": "display_data",
          "data": {
            "image/png": "[encoded data removed]",
            "text/plain": [
              "<Figure size 1000x700 with 1 Axes>"
            ]
          },
          "metadata": {
            "needs_background": "light"
          }
        }
      ]
    },
    {
      "cell_type": "code",
      "metadata": {
        "colab": {
          "base_uri": "https://localhost:8080/",
          "height": 663
        },
        "id": "TQN-2zq_zXDX",
        "outputId": "c5fc9773-31fe-43df-ca40-e654bfaecff2"
      },
      "source": [
        "coefficients_table = pd.DataFrame({'column': x_train.columns,\n",
        "                                  'coefficients': lr.coef_})\n",
        "coefficient_table = coefficients_table.sort_values(by = 'coefficients')\n",
        "\n",
        "plt.figure(figsize=(8, 6), dpi=120)\n",
        "x = coefficient_table['column']\n",
        "y = coefficient_table['coefficients']\n",
        "plt.barh( x, y)\n",
        "plt.xlabel( \"Coefficients\")\n",
        "plt.ylabel('Variables')\n",
        "plt.title('Normalized Coefficient plot')\n",
        "plt.show()"
      ],
      "execution_count": 133,
      "outputs": [
        {
          "output_type": "display_data",
          "data": {
            "image/png": "[encoded data removed]",
            "text/plain": [
              "<Figure size 960x720 with 1 Axes>"
            ]
          },
          "metadata": {
            "needs_background": "light"
          }
        }
      ]
    },
    {
      "cell_type": "code",
      "metadata": {
        "id": "2pu6DZK2z651"
      },
      "source": [
        ""
      ],
      "execution_count": null,
      "outputs": []
    },
    {
      "cell_type": "markdown",
      "metadata": {
        "id": "8hi-Qkz40wcz"
      },
      "source": [
        ""
      ]
    }
  ]
}